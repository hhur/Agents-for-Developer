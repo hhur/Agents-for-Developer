{
 "cells": [
  {
   "cell_type": "markdown",
   "metadata": {},
   "source": [
    "please replace open_api_key  to run it"
   ]
  },
  {
   "cell_type": "markdown",
   "metadata": {},
   "source": [
    "%pip install selenium"
   ]
  },
  {
   "cell_type": "code",
   "execution_count": null,
   "metadata": {},
   "outputs": [],
   "source": [
    "%pip install selenium\n",
    "%pip install matplotlib\n",
    "%pip install yfinance \n",
    "%pip install pandas\n",
    "%pip install pandas_datareader\n",
    "%pip install scikit-learn"
   ]
  },
  {
   "cell_type": "code",
   "execution_count": null,
   "metadata": {},
   "outputs": [],
   "source": [
    "from langchain_core.output_parsers import StrOutputParser\n",
    "from langchain_core.prompts import ChatPromptTemplate\n",
    "from langchain_experimental.utilities import PythonREPL\n",
    "from langchain_openai import ChatOpenAI\n",
    "\n",
    "\n",
    "import os\n",
    "os.environ[\"OPEN_API_KEY\"] = \"your key\"\n",
    "\n",
    "\n",
    "template = \"\"\"Write standalone python code based on the question from user. \n",
    "Write a standalone python code without using function definition.\n",
    "Return only python code in Markdown format, e.g.:\n",
    "\n",
    "```python\n",
    "....\n",
    "```\"\"\"\n",
    "prompt = ChatPromptTemplate.from_messages([(\"system\", template), (\"human\", \"{input}\")])\n",
    "\n",
    "model = ChatOpenAI(openai_api_key=os.environ[\"OPEN_API_KEY\"], model_name=\"gpt-4-0125-preview\")\n",
    "\n",
    "def _sanitize_output(text: str):\n",
    "    _, after = text.split(\"```python\")\n",
    "    return after.split(\"```\")[0]\n",
    "\n",
    "chain = prompt | model | StrOutputParser() | _sanitize_output | PythonREPL().run\n",
    "\n",
    "chain.invoke({\"input\": \"whats 2 plus 2\"})\n",
    "#chain.invoke({\"input\": \"graph world population trend over time\"})\n",
    "#chain.invoke({\"input\": \"graph stock price history of INTC over time\"})\n",
    "#chain.invoke({\"input\": \"one plus one\"})\n",
    "\n"
   ]
  }
 ],
 "metadata": {
  "kernelspec": {
   "display_name": "Python 3",
   "language": "python",
   "name": "python3"
  },
  "language_info": {
   "codemirror_mode": {
    "name": "ipython",
    "version": 3
   },
   "file_extension": ".py",
   "mimetype": "text/x-python",
   "name": "python",
   "nbconvert_exporter": "python",
   "pygments_lexer": "ipython3",
   "version": "3.9.13"
  }
 },
 "nbformat": 4,
 "nbformat_minor": 2
}

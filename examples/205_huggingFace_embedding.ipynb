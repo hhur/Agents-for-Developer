{
 "cells": [
  {
   "cell_type": "markdown",
   "metadata": {},
   "source": [
    "OpenVINO Local Pipelines with HuggingFace\n",
    "\n",
    "https://python.langchain.com/docs/integrations/llms/openvino\n",
    "https://api.python.langchain.com/en/latest/embeddings/langchain_community.embeddings.openvino.OpenVINOEmbeddings.html"
   ]
  },
  {
   "cell_type": "code",
   "execution_count": null,
   "metadata": {},
   "outputs": [],
   "source": [
    "%pip install sentence_transformers"
   ]
  },
  {
   "cell_type": "code",
   "execution_count": 2,
   "metadata": {},
   "outputs": [],
   "source": [
    "from langchain_community.document_loaders import DirectoryLoader\n",
    "from langchain_community.document_loaders import PyPDFLoader\n",
    "from langchain.text_splitter import RecursiveCharacterTextSplitter\n",
    "\n",
    "\n",
    "raw_documents = DirectoryLoader('../article/temp', glob=\"*.pdf\", loader_cls=PyPDFLoader).load()\n",
    "\n",
    "text_splitter = RecursiveCharacterTextSplitter(chunk_size=2000, chunk_overlap=100)\n",
    "documents = text_splitter.split_documents(raw_documents)\n"
   ]
  },
  {
   "cell_type": "code",
   "execution_count": 3,
   "metadata": {},
   "outputs": [
    {
     "name": "stderr",
     "output_type": "stream",
     "text": [
      "Framework not specified. Using pt to export the model.\n",
      "Using the export variant default. Available variants are:\n",
      "    - default: The default ONNX variant.\n",
      "Using framework PyTorch: 2.2.2+cpu\n",
      "c:\\workspace\\llm\\.venv\\lib\\site-packages\\transformers\\modeling_utils.py:4193: FutureWarning: `_is_quantized_training_enabled` is going to be deprecated in transformers 4.39.0. Please use `model.hf_quantizer.is_trainable` instead\n",
      "  warnings.warn(\n",
      "Compiling the model to CPU ...\n",
      "Exception ignored in: <finalize object at 0x1a8e07d7ea0; dead>\n",
      "Traceback (most recent call last):\n",
      "  File \"C:\\Python39\\lib\\weakref.py\", line 591, in __call__\n",
      "    return info.func(*info.args, **(info.kwargs or {}))\n",
      "  File \"C:\\Python39\\lib\\tempfile.py\", line 820, in _cleanup\n",
      "    cls._rmtree(name)\n",
      "  File \"C:\\Python39\\lib\\tempfile.py\", line 816, in _rmtree\n",
      "    _shutil.rmtree(name, onerror=onerror)\n",
      "  File \"C:\\Python39\\lib\\shutil.py\", line 759, in rmtree\n",
      "    return _rmtree_unsafe(path, onerror)\n",
      "  File \"C:\\Python39\\lib\\shutil.py\", line 629, in _rmtree_unsafe\n",
      "    onerror(os.unlink, fullname, sys.exc_info())\n",
      "  File \"C:\\Python39\\lib\\tempfile.py\", line 808, in onerror\n",
      "    cls._rmtree(path)\n",
      "  File \"C:\\Python39\\lib\\tempfile.py\", line 816, in _rmtree\n",
      "    _shutil.rmtree(name, onerror=onerror)\n",
      "  File \"C:\\Python39\\lib\\shutil.py\", line 759, in rmtree\n",
      "    return _rmtree_unsafe(path, onerror)\n",
      "  File \"C:\\Python39\\lib\\shutil.py\", line 610, in _rmtree_unsafe\n",
      "    onerror(os.scandir, path, sys.exc_info())\n",
      "  File \"C:\\Python39\\lib\\shutil.py\", line 607, in _rmtree_unsafe\n",
      "    with os.scandir(path) as scandir_it:\n",
      "NotADirectoryError: [WinError 267] The directory name is invalid: 'C:\\\\Users\\\\test1\\\\AppData\\\\Local\\\\Temp\\\\tmpsecrhfqp\\\\openvino_model.bin'\n"
     ]
    },
    {
     "data": {
      "text/plain": [
       "[Document(page_content='further information about sanitize operations.  \\nThe Sanitize command (refer to section 5.24) is used to start a sanitize operation or to recover from a \\npreviously failed sanitize operation. All sanitize operations are performed in the background (i.e., completion \\nof the Sanitize command does not indicate completion of the sanitize operation). The completion of a \\nsanitize operation is indicated in the Sanitize St atus log page, and with either the Sanitize Operation \\nCompleted asynchronous event  or the Sanitize Operation Completed With Unexpected Deallocation \\nasynchronous event  (if an Asynchronous Event Request Command is outstanding).', metadata={'page': 355, 'source': '..\\\\article\\\\temp\\\\nvme 1.4 spec.pdf'}),\n",
       " Document(page_content='Sanitize Operation  Logical Blocks  Non-PI Metadata1 Protection Information2 \\nBlock Erase  Vendor specific value  Vendor specific value  Vendor specific value  \\nCrypto Erase  Indeterminate  Indeterminate  Indeterminate  \\nOverwrite  Refer to Figure 480   Refer to Figure 480   Refer to Figure 480  \\nNOTES:  \\n1. If metadata other than Protection Information is present.  \\n2. If Protection Information is present within the metadata.  \\n The Sanitize Status log page (refer to section  5.14.1.16.2) contains estimated times for sanitize operations \\nand a consistent snapshot of information about the most recently started sanitize operation, including whether a sanitize operation is in pro gress, the sanitize operation parameters and the status of the most \\nrecent sanitize operation. The controller shall report sanitize operation in progress if either a sanitize \\noperation is in progress or an associated additional media modification operation is in progress.  If a sanitize \\noperation is not in progress, then the Global Data Erased bit in the log page indicates whether the NVM subsystem may contain any user data (i.e., has not been written to since the most recent successful sanitize \\noperation).  \\nThe Sanitize Status log page shall be updated as described:  \\n• Initialize before any controller in the NVM subsystem is ready ; \\n• Update before a Sanitize command that starts a sanitize operation is completed (i.e., prior to the \\ncompletion queue entry being posted for the Sanitize command) ; and \\n• Update when a sanitize operation is complete (e.g., immediately prior to the completion queue \\nentry being posted for the Sanitize Operation Completed asynchronous event  or for the Sanitize \\nOperation Completed Wit h Unexpected Deallocation asynchronous event ).  \\nThe Sanitize Status log page should be updated periodically during a sanitize operation to make progress \\ninformation available to hosts.', metadata={'page': 357, 'source': '..\\\\article\\\\temp\\\\nvme 1.4 spec.pdf'}),\n",
       " Document(page_content='sanitize operation.  \\nWhen a sanitize operation starts on any controller, all controllers in the NVM subsystem:  \\n• Shall clear any outstanding Sanitize Operation Completed asynchronous event  or Sanitize \\nOperation Completed With Unexpected Deallocation asynchronous event ; \\n• Shall update the Sanitize Status log (refer to section 5.14.1.16.2) ; \\n• Shall abort any command (submitted or in progress) not allowed during a sanitize operation with a \\nstatus of Sanitize In Progress (refer to section 8.15.1);  \\n• Shall abort device self -test operations in progress;  \\n• Suspends  autonomous power state management activities  as described in section 8.4.2 ; and  \\n• Shall release stream identif iers for any open streams.  \\n \\nWhile a sanitize operation is in progress, all controllers in the NVM subsystem shall abort any command not allowed during a sanitize operation with a status of Sanitize In Progress (refer to section 8.15.1)  and \\nthe Persistent Memory Region shall behave as described in section 8.15.1.  \\nAfter a sanitize operation fails, all controllers in the NVM subsystem shall abort any command not allowed during a sanitize operation with a status of Sanitize Failed (refer to section 8.15.1) and the Persistent \\nMemory Region shall behave as described in section 8.15.1  until a subsequent sanitize operation is started \\nor succe ssful recovery from the failed sanitize operation occurs.  \\nIf the most recent failed sanitize operation was started in unrestricted completion mode (i.e. , the AUSE bit \\nwas set to ‘1’ in the Sanitize command), failure recovery requires the host to issue a s ubsequent Sanitize \\ncommand in restricted or unrestricted completion mode or to issue a subsequent Sanitize command with the Exit Failure Mode action.', metadata={'page': 235, 'source': '..\\\\article\\\\temp\\\\nvme 1.4 spec.pdf'}),\n",
       " Document(page_content='001b  The most recent sanitize operation completed successfully  including any \\nadditional media modification (refer to the No-Deallocate Modifies Media \\nAfter Sanitize field in Figure 247). \\n010b  A sanitize operation is currently in progress.  \\n011b  The most recent sanitize operation failed.  \\n100b  The most recent sanitize operation for which No -Deallocate After \\nSanitize (refer to section 5.24) was requested has completed \\nsuccessfully with deal location of all LBAs (refer to section 5.21.1.23 ). \\n101b to 111b  Reserved  \\n \\n07:04  Sanitize Command Dword 10 Information (SCDW10): This field contains the value of the \\nCommand Dword 10 field of the Sanitize command that started the sanitize operation whose \\nstatus is reported in the SSTAT field. Refer to  Figure 330 . \\n11:08  Estimated Time For Overwrite: This field indicates the number of seconds required to \\ncomplete an Overwrite sanitize operation with 16 passes in the background (refer to section \\n5.24) when the No-Deallocate Modifies Media After Sanitize field (refer to Figure 247) is not \\nset to 10b.  A value of 0h indicates that the sanitize operation is expected to be completed in \\nthe background when the Sanitize command that started that operation is completed. A val ue \\nof FFFFFFFFh indicates that no time period is reported.  \\n15:12  Estimated Time For Block Erase: This field indicates the number of seconds required to \\ncomplete a Block Erase sanitize operation in the background (refer to section 5.24) when the \\nNo-Deallocate Modifies Media After Sanitize field (refer to Figure 247) is not set to 10b. A \\nvalue of 0h indicates that the sanitize operation is expected to be complete d in the \\nbackground when the Sanitize command that started that operation is completed. A value of \\nFFFFFFFFh  indicates that no time period is reported.', metadata={'page': 158, 'source': '..\\\\article\\\\temp\\\\nvme 1.4 spec.pdf'})]"
      ]
     },
     "execution_count": 3,
     "metadata": {},
     "output_type": "execute_result"
    }
   ],
   "source": [
    "from langchain_community.vectorstores import Chroma\n",
    "from langchain_community.vectorstores import FAISS\n",
    "\n",
    "from langchain_community.embeddings import OpenVINOEmbeddings\n",
    "\n",
    "\n",
    "model_name = \"sentence-transformers/all-mpnet-base-v2\"\n",
    "model_kwargs = {'device': 'CPU'}\n",
    "encode_kwargs = {'normalize_embeddings': True}\n",
    "ov_embedding = OpenVINOEmbeddings(\n",
    "    model_name_or_path=model_name,\n",
    "    model_kwargs=model_kwargs,\n",
    "    encode_kwargs=encode_kwargs\n",
    ")\n",
    "\n",
    "db = Chroma.from_documents(documents, embedding=ov_embedding)\n",
    "#db = FAISS.from_documents(documents, embedding=ov_embedding)\n",
    "\n",
    "db.similarity_search(\"what are the Sanitize Command Restrictions\")\n"
   ]
  }
 ],
 "metadata": {
  "kernelspec": {
   "display_name": ".venv",
   "language": "python",
   "name": "python3"
  },
  "language_info": {
   "codemirror_mode": {
    "name": "ipython",
    "version": 3
   },
   "file_extension": ".py",
   "mimetype": "text/x-python",
   "name": "python",
   "nbconvert_exporter": "python",
   "pygments_lexer": "ipython3",
   "version": "3.9.13"
  }
 },
 "nbformat": 4,
 "nbformat_minor": 2
}

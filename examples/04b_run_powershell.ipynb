{
 "cells": [
  {
   "cell_type": "code",
   "execution_count": 12,
   "metadata": {},
   "outputs": [
    {
     "data": {
      "text/plain": [
       "b'2\\r\\n'"
      ]
     },
     "execution_count": 12,
     "metadata": {},
     "output_type": "execute_result"
    }
   ],
   "source": [
    "from langchain_core.output_parsers import StrOutputParser\n",
    "from langchain_core.prompts import ChatPromptTemplate\n",
    "from langchain_openai import ChatOpenAI\n",
    "import subprocess\n",
    "\n",
    "\n",
    "import os\n",
    "os.environ[\"OPEN_API_KEY\"] = \"your key\"\n",
    "\n",
    "\n",
    "template = \"\"\"Write standalone powershell script based on the question from user. \n",
    "you should write powershell script without using function definition.\n",
    "Return only powershell script in Markdown format, e.g.:\n",
    "\n",
    "```PS\n",
    "....\n",
    "```\"\"\"\n",
    "prompt = ChatPromptTemplate.from_messages([(\"system\", template), (\"human\", \"{input}\")])\n",
    "\n",
    "model = ChatOpenAI(openai_api_key=os.environ[\"OPEN_API_KEY\"], model_name=\"gpt-4-0125-preview\")\n",
    "\n",
    "powershell_script = \"\"\n",
    "\n",
    "def _sanitize_output(text: str):\n",
    "    _, after = text.split(\"```PS\")\n",
    "    powershell_script = after.split(\"```\")[0]\n",
    "    return powershell_script\n",
    "\n",
    "def run_powershell(str):\n",
    "    print(str)\n",
    "    return subprocess.run([\"powershell\", \"-ExecutionPolicy RemoteSigned -Command\", str], capture_output=True).stdout\n",
    "\n",
    "chain = prompt | model | StrOutputParser() | _sanitize_output | run_powershell\n",
    "\n",
    "#chain.invoke({\"input\": \"graph world population trend over time\"})\n",
    "#chain.invoke({\"input\": \"graph stock price history of INTC over time\"})\n",
    "#chain.invoke({\"input\": \"one plus one\"})\n",
    "#chain.invoke({\"input\": })\n",
    "\n"
   ]
  }
 ],
 "metadata": {
  "kernelspec": {
   "display_name": "Python 3",
   "language": "python",
   "name": "python3"
  },
  "language_info": {
   "codemirror_mode": {
    "name": "ipython",
    "version": 3
   },
   "file_extension": ".py",
   "mimetype": "text/x-python",
   "name": "python",
   "nbconvert_exporter": "python",
   "pygments_lexer": "ipython3",
   "version": "3.9.13"
  }
 },
 "nbformat": 4,
 "nbformat_minor": 2
}

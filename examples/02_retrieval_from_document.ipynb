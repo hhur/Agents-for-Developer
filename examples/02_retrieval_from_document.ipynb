{
 "cells": [
  {
   "cell_type": "markdown",
   "metadata": {},
   "source": [
    "reference.\n",
    "\n",
    "https://python.langchain.com/docs/expression_language/get_started"
   ]
  },
  {
   "cell_type": "code",
   "execution_count": 1,
   "metadata": {},
   "outputs": [
    {
     "name": "stdout",
     "output_type": "stream",
     "text": [
      "Requirement already satisfied: faiss-cpu in c:\\python39\\lib\\site-packages (1.7.4)\n",
      "Note: you may need to restart the kernel to use updated packages.\n"
     ]
    }
   ],
   "source": [
    "%pip install faiss-cpu"
   ]
  },
  {
   "cell_type": "code",
   "execution_count": 2,
   "metadata": {},
   "outputs": [],
   "source": [
    "from langchain_community.vectorstores import FAISS\n",
    "from langchain.text_splitter import RecursiveCharacterTextSplitter\n",
    "from langchain_core.output_parsers import StrOutputParser\n",
    "from langchain_core.prompts import ChatPromptTemplate\n",
    "from langchain_core.runnables import RunnableParallel, RunnablePassthrough\n",
    "from langchain_openai.chat_models import ChatOpenAI\n",
    "from langchain_openai.embeddings import OpenAIEmbeddings\n",
    "\n",
    "from dotenv import load_dotenv\n",
    "\n",
    "load_dotenv(override=True)\n",
    "#os.environ[\"OPENAI_API_KEY\"] = \"your key\"\n",
    "\n"
   ]
  },
  {
   "cell_type": "markdown",
   "metadata": {},
   "source": [
    "Facebook AI Similarity Search (Faiss) is a library for efficient similarity search and clustering of dense vectors.\n",
    "\n",
    "search result will be fetched by retriever and it'll be used as context"
   ]
  },
  {
   "cell_type": "code",
   "execution_count": 3,
   "metadata": {},
   "outputs": [],
   "source": [
    "from langchain_community.document_loaders import TextLoader\n",
    "from langchain.text_splitter import CharacterTextSplitter\n",
    "\n",
    "raw_documents = TextLoader('./private_text.txt').load()\n",
    "text_splitter = CharacterTextSplitter(chunk_size=1000, chunk_overlap=0)\n",
    "documents = text_splitter.split_documents(raw_documents)\n",
    "\n",
    "vectorstore = FAISS.from_documents(documents, embedding=OpenAIEmbeddings(openai_api_key=os.environ[\"OPENAI_API_KEY\"]))\n",
    "\n",
    "retriever = vectorstore.as_retriever()"
   ]
  },
  {
   "cell_type": "markdown",
   "metadata": {},
   "source": [
    "make a template with context"
   ]
  },
  {
   "cell_type": "code",
   "execution_count": 4,
   "metadata": {},
   "outputs": [],
   "source": [
    "\n",
    "template = \"\"\"Answer the question based only on the following context:\n",
    "{context}\n",
    "\n",
    "Question: {question}\n",
    "\"\"\"\n",
    "prompt = ChatPromptTemplate.from_template(template)\n",
    "model = ChatOpenAI(openai_api_key=os.environ[\"OPENAI_API_KEY\"], model_name=\"gpt-4-0125-preview\")\n",
    "output_parser = StrOutputParser()\n"
   ]
  },
  {
   "cell_type": "markdown",
   "metadata": {},
   "source": [
    "context include custom test resutls fetched by the retriever. \n",
    "question will contain user's question."
   ]
  },
  {
   "cell_type": "code",
   "execution_count": 5,
   "metadata": {},
   "outputs": [
    {
     "data": {
      "text/plain": [
       "'FunnyIO is a high-performance and scalable host controller interface that is designed for accessing solid-state drives (SSDs) over a PCI Express (PCIe) bus. The development of FunnyIO drivers is crucial for enabling efficient communication between the operating system and FunnyIO storage devices. The FunnyIO protocol is specifically designed to leverage the low latency and parallelism offered by modern SSDs, providing efficient command submission and completion mechanisms to enable high-speed data transfers between the host and the storage device.\\n\\nKey aspects of FunnyIO driver development include a deep understanding of the FunnyIO protocol, PCIe interface, memory management, command queues, error handling, and performance optimization techniques. FunnyIO drivers interact with storage devices over the PCIe interface, requiring knowledge of PCIe bus architecture and communication protocols for efficient driver development.\\n\\nMemory management is a critical component, with a focus on efficient allocation and deallocation strategies to optimize data transfers and maintain system stability and performance. FunnyIO drivers also utilize command queues to submit and process I/O commands to the storage device, and implementing efficient command queue management algorithms can significantly enhance performance.\\n\\nError handling is essential for ensuring the reliability and robustness of FunnyIO drivers, with error recovery mechanisms and logging being important for diagnosing and resolving issues.\\n\\nPerformance optimization in FunnyIO driver development involves strategies to optimize data transfer speeds, reduce latency, and minimize CPU overhead. Techniques such as asynchronous I/O operations, interrupt handling, and caching are employed to enhance the performance of FunnyIO storage devices.\\n\\nOverall, developing FunnyIO drivers requires a comprehensive understanding of multiple technical aspects and best practices. By adhering to these guidelines, developers can create efficient and reliable FunnyIO drivers that facilitate high-speed data transfers between the host and FunnyIO storage devices.'"
      ]
     },
     "execution_count": 5,
     "metadata": {},
     "output_type": "execute_result"
    }
   ],
   "source": [
    "\n",
    "chain = (\n",
    "    {\"context\": retriever, \"question\": RunnablePassthrough()}\n",
    "    | prompt \n",
    "    | model \n",
    "    | output_parser\n",
    ")\n",
    "\n",
    "chain.invoke(\"tell me about the funnyIO\")"
   ]
  }
 ],
 "metadata": {
  "kernelspec": {
   "display_name": "Python 3",
   "language": "python",
   "name": "python3"
  },
  "language_info": {
   "codemirror_mode": {
    "name": "ipython",
    "version": 3
   },
   "file_extension": ".py",
   "mimetype": "text/x-python",
   "name": "python",
   "nbconvert_exporter": "python",
   "pygments_lexer": "ipython3",
   "version": "3.9.13"
  }
 },
 "nbformat": 4,
 "nbformat_minor": 2
}

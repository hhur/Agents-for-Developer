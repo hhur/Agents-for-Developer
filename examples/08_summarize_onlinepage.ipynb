{
 "cells": [
  {
   "cell_type": "markdown",
   "metadata": {},
   "source": [
    "example of summarizing set of documents\n",
    "\n",
    "ref. https://python.langchain.com/docs/use_cases/summarization"
   ]
  },
  {
   "cell_type": "code",
   "execution_count": null,
   "metadata": {},
   "outputs": [],
   "source": [
    "%pip install langchain-openai tiktoken chromadb langchain"
   ]
  },
  {
   "cell_type": "code",
   "execution_count": 2,
   "metadata": {},
   "outputs": [],
   "source": [
    "from langchain.chains.summarize import load_summarize_chain\n",
    "from langchain_community.document_loaders import WebBaseLoader\n",
    "from langchain_openai import ChatOpenAI\n",
    "\n",
    "import os\n",
    "from dotenv import load_dotenv\n",
    "\n",
    "load_dotenv(override=True)\n",
    "#os.environ[\"OPENAI_API_KEY\"] = \"your key\"\n",
    "\n",
    "model = ChatOpenAI(openai_api_key=os.environ[\"OPENAI_API_KEY\"], model_name=\"gpt-4-0125-preview\")\n"
   ]
  },
  {
   "cell_type": "code",
   "execution_count": 16,
   "metadata": {},
   "outputs": [
    {
     "data": {
      "text/plain": [
       "\"\\n\\n\\n\\n\\n\\n\\n\\n\\n\\n\\n\\n\\n\\n\\n\\n\\n\\n\\n\\n\\nManaging Secrets Securely in the Cloud - Visual Studio Blog\\n\\n\\n\\n\\n\\n\\n\\n\\n\\n\\n\\n\\n\\n\\n\\n\\n\\n\\n\\n\\n\\n\\n\\n\\n\\n\\n\\n\\n\\n\\n\\n\\n\\n\\n\\n\\n\\n\\n\\n\\n\\n\\n\\n\\n\\n \\n\\n\\n\\n\\n\\n\\n\\n\\n\\n\\n\\n\\n\\n\\n\\n\\n\\n\\n\\n\\n\\n\\n\\n\\nSkip to main content\\n\\n\\n\\n\\n\\n\\n\\nMicrosoft\\n\\n\\n\\nVisual Studio\\n\\n\\n\\n\\nVisual Studio\\n\\n\\n\\n\\n                            Visual Studio\\n                        \\n\\n\\n\\n\\n Home \\n\\n\\nDevBlogs\\n\\n\\n\\nDeveloper\\n\\n\\nVisual Studio\\n\\n\\nVisual Studio Code\\n\\n\\nVisual Studio for Mac\\n\\n\\nDevOps\\n\\n\\nWindows Developer\\n\\n\\nDeveloper support\\n\\n\\nISE Developer\\n\\n\\nEngineering@Microsoft\\n\\n\\nAzure SDK\\n\\n\\nCommand Line\\n\\n\\nPerf and Diagnostics\\n\\n\\nMath in Office\\n\\n\\nReact Native\\n\\n\\n\\n \\n\\nTechnology\\n\\n\\nDirectX\\n\\n\\nPIX\\n\\n\\nSemantic Kernel\\n\\n\\nSurfaceDuo\\n\\n\\nWindows AI Platform\\n\\n\\n\\n \\n\\nLanguages\\n\\n\\nC++\\n\\n\\nC#\\n\\n\\nF#\\n\\n\\nTypeScript\\n\\n\\nPowerShell Community\\n\\n\\nPowerShell Team\\n\\n\\nPython\\n\\n\\nQ#\\n\\n\\nJavaScript\\n\\n\\nJava\\n\\n\\nJava Blog in Chinese\\n\\n\\n\\n \\n\\n.NET\\n\\n\\nAll .NET posts\\n\\n\\n.NET MAUI\\n\\n\\nASP.NET Core\\n\\n\\nBlazor\\n\\n\\nEntity Framework\\n\\n\\nAI\\n\\n\\nMachine Learning\\n\\n\\nServicing\\n\\n\\nXamarin\\n\\n\\n.NET Blog in Chinese\\n\\n\\n\\n \\n\\nPlatform Development\\n\\n\\n#ifdef Windows\\n\\n\\nAzure Government\\n\\n\\nAzure VM Runtime Team\\n\\n\\nBing Dev Center\\n\\n\\nMicrosoft Edge Dev\\n\\n\\nMicrosoft Azure\\n\\n\\nMicrosoft 365 Developer\\n\\n\\nMicrosoft Entra Identity Developer Blog\\n\\n\\nOld New Thing\\n\\n\\nPower Platform\\n\\n\\nWindows MIDI and Music dev\\n\\n\\n\\n \\n\\nData Development\\n\\n\\n Azure Cosmos DB\\n\\n\\nAzure Data Studio\\n\\n\\nAzure SQL Database\\n\\n\\nOData\\n\\n\\nRevolutions R\\n\\n\\nSQL Server Data Tools\\n\\n\\n\\n\\n\\n\\nMore\\n\\n\\n\\n\\n\\n\\n\\n\\n\\n\\n\\n\\nSearch\\nSearch\\n\\n\\n\\n\\n No results\\n\\n\\n\\n\\nCancel\\n\\n\\n\\n\\n\\n\\n\\n\\n\\n\\n\\n\\n\\nSupercharge Visual Studio 2022 with GitHub Copilot Chat\\nBuilding new functionality, writing unit tests, and learning new technologies has never been easier or more fun.\\n\\n\\n\\n\\n\\nDownload \\n\\n\\n\\n\\n\\n\\nClose \\n\\n\\n\\n\\n\\n\\n\\n\\n\\n\\nManaging Secrets Securely in the Cloud  Visual Studio Blog \\n\\n            November 17th, 20170 0\\n\\nYou’ve probably heard some version of the story about a developer who mistakenly checked in his AWS S3 key to Github. He pulled the key within 5 minutes but still racked up a multi-thousand dollar bill from bots that crawl open source sites looking for secrets. As developers we all understand and care about keeping dev and production secrets safe but managing those secrets on your own or especially in a team can be cumbersome. We are pleased to announce several new features that together will make detecting secrets in code and working with secrets stored securely on Azure easier than it’s ever been before.\\n\\nApp Services Authentication Extension for Visual Studio 2017 version 15.5 or later\\nManaged Service Identity (MSI) support in Azure App Services\\nASP.NET Key Vault and User Secret Configuration builders Builder | .NET 4.7.1\\nCredential Scanner (CredScan) Code Analyzer Preview\\n\\nSafeguarding Secrets while building for Azure\\nMost of us know it’s a best practice to keep secret settings like connection strings, domain passwords, or other credentials as a runtime configuration and outside the source code. Azure Key Vault provides a security location to safeguard keys and other secrets used by cloud apps. Azure App services recently added support for Managed Service identity which means apps running on App Service can easily get authorized to access a Key Vault and other AAD-protected resources so you no longer need to store secrets visibility in environment variables.\\nIf you do this though, getting your local dev environment setup with the right secrets can be a pain, especially if you work in a team. We hear many developers distribute secrets for shared dev services through email or just check them into source code. So we created the App Authentication Extension to make it easy to develop apps locally while keeping your secrets in Key Vault. With the extension installed, your locally running app uses the identity signed into Visual Studio to get secrets you are authorized to access directly from Key Vault. This works great in a team environment where you might have security group for the dev team with access to a dev environment Key Vault.\\n\\n\\nIn ASP.NET applications the ASP.NET Key Vault and User Secret configuration builders with .NET 4.7.1 is a NuGet package that allows secret app settings to be saved in secure configuration stores instead of in web.config as plaintext, without changing application source code. In ASP.NET Core applications there is a small code change, to load Key Vault as a configuration provider and once you do this you are set. This change isn’t done yet, but we’re hoping to eliminate it soon.\\n\\nHere are a couple of walkthroughs that show you how everything works:\\n\\nASP.NET: app-service-msi-keyvault-dotnet\\nASP.NET Core: aspnetcore-msi-keyvault\\n\\nCredential Scanner (CredScan) Code Analyzer Preview\\nWe also wanted to make it easier for devs to find secrets in their code to encourage moving secrets to more secure locations like User Secrets or Azure Key Vault. The Credential Scan Code Analyzer is a very early preview that can detect Storage access keys, SAS tokens, API management keys, Cosmos DB access keys, AAD Service principal keys, connection strings for SQL, Azure SQL, Service Bus, Azure Logic apps, BizTalk server, and various other credential types. As you edit your code the analyzer scans your code and immediately warns you about secrets it finds in any open documents with warnings in the error list and in the Build and Code Analysis at Commit time.\\xa0It’s something we’ve been developing, utilizing, and improving within Microsoft for some time now.\\nThe Credential Scan Code Analyzer is a preview and ships in the experimental DevLabs extension, Continuous Delivery Tools for Visual Studio. This is because we know this is an important area that goes beyond open documents and can stretch all the way into your CI environment. Rather than waiting, we released an experimental version now because we think it’s useful and we want your feedback on how you would use this in your environment.\\nPlease install these extensions and give the walkthroughs a try to let us know what you think.\\n\\n\\n\\n\\nCatherine Wang, Program Manager, Azure Developer Experience Team\\n@cawa_cathyCatherine is a Program Manager for Azure Developer Experience team in Microsoft. I worked on Azure security tooling, Azure diagnostics, Storage Explorer, Service Fabric and Docker tools. Interested in making development experience simple, smooth and productive.\\n\\n\\n\\n\\n\\n \\n\\n\\n\\n                    Visual Studio Blog                \\n\\n\\n\\n\\nFollow \\n\\n\\n\\n\\n\\n\\n\\n\\n\\n\\n\\n\\n\\n\\n\\n\\n\\n\\n\\n\\nPosted in Cloud Open Source WebTagged .NET Announcement ASP.NET Azure Service Fabric SQL Visual Studio 2017\\n\\n\\n\\nRead next\\n\\n\\n\\nLarge C# and VB solutions load significantly faster in 15.5 update\\nOn average, 50 percent of all solutions opened by Visual Studio users open in ten seconds or less. However, large solutions can take longer to load because there are a ...\\nViktor Veis November 20, 2017\\n\\n\\n0 comment\\n\\n\\n\\nOverview of Visual Studio 2017 and Updates for .NET Developers\\nVisual Studio 2017 first released in March of this year. Since then, there have been five updates with each bringing more improvements and capabilities. Every improvement...\\nKasey Uhlenhuth November 20, 2017\\n\\n\\n0 comment\\n\\n \\n\\n\\n\\n0 comments\\nComments are closed.\\t\\t\\t\\tLogin to edit/delete your existing comments\\n\\n\\n\\n\\n\\n\\n\\n\\n\\n\\n\\n\\n\\n\\n\\n\\n\\n\\n\\n\\n\\n\\n\\n\\nRelevant Links\\n\\nVisual Studio homepage\\nVisual Studio documentation\\nVisual Studio Dev Essentials\\nMicrosoft Azure\\n\\nVisual Studio on YouTube\\n\\nVisual Studio Tips & Tricks\\nVisual Studio Toolbox\\nVisual Studio Office Hours\\nWriting extensions with Mads\\n\\n\\n\\n\\n\\n\\n\\nTopics\\n.NET.NET 7.NET Core.NET Framework.NET MAUI.NET Object Allocation17.0202264-bitA11yAccessibilityAdministratorAdministrator UpdatesADOAndroidAngularJSAnnouncementApplication InsightsArm64Artificial IntelligenceASP.NETASP.NET CoreaspnetasyncasynchronousAudioAuthenticationAzureAzure Active DirectoryAzure App ServicesAzure BoardsAzure Cache for RedisAzure Cognitive ServicesAzure DataAzure Data LakeAzure DevOpsAzure FunctionsAzure IoT DeviceAzure IoT EdgeAzure IoT HubAzure Key VaultAzure Kubernetes ServiceAzure Machine LearningAzure MLAzure SDKAzure Search ServiceAzure StackAzure StorageAzure Toolingazure virtual desktopBicepBig DataBingBlazorBlendBreakpointsBuildC#C#C++C++ conformanceCASTChatCheckstyleCLIcloudcloud developmentcloud nativeCloudPilotCMakeCode ReviewsCodeLensCodespacesCOMcommand promptCompareConditional AccessConfigurationConnectContainersContinuous Integration/Continuous DeliveryCopilotCordovaCPU UsageCross-PlatformCSSCustomer DevelopmentdashboardData ScienceDatabaseDebuggerDebuggingDebugging and DiagnosticsDeep LearningDeploymentDesigndev boxDevBlogsdevboxdeveloperDeveloper Command PromptDeveloper CommunityDeveloper Productivitydeveloper toolsDevTest LabsDiagnosticsdiffdoc managementDockerDocsdocument managementdotnetEclipse JDT Language ServerEditorEFEnterpriseEntity FrameworkEventexceptionExperimentExperimentalExtensionsF#FeedbackFindFind in FilesFsharpGame DevelopmentgamingGetting StartedGitGit Branch SwitchingGit IntegrationGitHubGitHub CopilotGitHub IssuesGradlegroup policyHockeyAppHTMLIdentityIgniteInstallInstallerInstrumentationIntelliCodeIntelliCode CompletionsIntelliCode suggestionsIntelliSenseIntelliTestIntelliTraceIntuneiOSIoTIoT EdgeIT AdminJavaJava Test RunnerJavaScriptKeyboard ShortcutsKubernetesLayoutsledgerLicensingLintingLinuxLive Sharelive unit testingMachine LearningmarkdownMavenMFAmicroservicesMicrosoft BandMicrosoft Endpoint ManagerMobileMSBuildMulti-branch GraphMulti-repoMultiple RepositoriesMVVMNavigate through codeNode.jsNuGetnuget packagesnuget performancenuget restoreOffice 365 APIOffice Developer ToolsOfflineONNXONNX RuntimeOpen SourceOut of supportpackage managementparallel stacksPerformancePerformance ImprovementsPersonalizationpersonalizephpPluralsightPowerShellPreviewPreview FeaturesPreview ReleasePricingProducProductivityprofileProfilingPROSEPyDataPythonQ#QuantumRRefactoringRegular ExpressionsReleaseReliabilityRemoteResourcesrestricted modeRoadmaproslynSCCMSearchsecurityself-hostedServerless ComputingService FabricSign insolution load performanceSolution OpenSource ControlSQLsqlserver022ssdtSubmodulesSubscriberSupportsupported componentsTeam Foundation ServerTeamsTemplatesterminaltestTest ProfilingTestingThe Visual Studio Pull Requests ExtensionthemesTips and TricksTomcatTools for Apache CordovaTrainingTransformertrustTypeScriptUI DesignUI RefreshUnit test performanceUnityUniversal AppsUniversal Windows PlatformUnrealUnreal EngineUnrealEngineUpdateUpdatesVBVertical Document tabsVertical tabsvideoVisual BasicVisual StudioVisual Studio 2010Visual Studio 2012Visual Studio 2013Visual Studio 2015Visual Studio 2017Visual Studio 2019Visual Studio 2019 forVisual Studio 2019 for MacVisual Studio 2022Visual Studio 2022 for MacVisual Studio 2022 launch eventVisual Studio Administrator TemplatesVisual Studio ADMXVisual Studio App CenterVisual Studio CodeVisual Studio CodespacesVisual Studio Dev EssentialsVisual Studio EnterpriseVisual Studio for MacVisual Studio Live ShareVisual Studio OnlineVisual Studio PreviewVisual Studio ProfilerVisual Studio SubscriptionsVisual Studio ToolboxVisual Stuidio 2019vmVSVS Codevs2022VSCodeVSIPVSMacVXAMLWCAG 2.2WebWeb APIWeb AppswebformsWebinarwfhwidgetWindows 10Windows PhoneWinFormsWork ItemsWPFWSL 2WSUSXamarinXamarin.FormsXAML\\n\\n\\n\\n\\n\\nArchive\\n February 2024\\nJanuary 2024\\nDecember 2023\\nNovember 2023\\nOctober 2023\\nSeptember 2023\\nAugust 2023\\nJuly 2023\\nJune 2023\\nMay 2023\\nApril 2023\\nMarch 2023\\nFebruary 2023\\nJanuary 2023\\nDecember 2022\\nNovember 2022\\nOctober 2022\\nSeptember 2022\\nAugust 2022\\nJuly 2022\\nJune 2022\\nMay 2022\\nApril 2022\\nMarch 2022\\nFebruary 2022\\nJanuary 2022\\nDecember 2021\\nNovember 2021\\nOctober 2021\\nSeptember 2021\\nAugust 2021\\nJuly 2021\\nJune 2021\\nMay 2021\\nApril 2021\\nMarch 2021\\nFebruary 2021\\nJanuary 2021\\nDecember 2020\\nNovember 2020\\nOctober 2020\\nSeptember 2020\\nAugust 2020\\nJuly 2020\\nJune 2020\\nMay 2020\\nApril 2020\\nMarch 2020\\nFebruary 2020\\nJanuary 2020\\nDecember 2019\\nNovember 2019\\nOctober 2019\\nSeptember 2019\\nAugust 2019\\nJuly 2019\\nJune 2019\\nMay 2019\\nApril 2019\\nMarch 2019\\nFebruary 2019\\nJanuary 2019\\nDecember 2018\\nNovember 2018\\nOctober 2018\\nSeptember 2018\\nAugust 2018\\nJuly 2018\\nJune 2018\\nMay 2018\\nApril 2018\\nMarch 2018\\nFebruary 2018\\nJanuary 2018\\nDecember 2017\\nNovember 2017\\nOctober 2017\\nSeptember 2017\\nAugust 2017\\nJuly 2017\\nJune 2017\\nMay 2017\\nApril 2017\\nMarch 2017\\nFebruary 2017\\nJanuary 2017\\nDecember 2016\\nNovember 2016\\nOctober 2016\\nAugust 2016\\nJuly 2016\\nJune 2016\\nMay 2016\\nApril 2016\\nMarch 2016\\nFebruary 2016\\nJanuary 2016\\nDecember 2015\\nNovember 2015\\nOctober 2015\\nSeptember 2015\\nAugust 2015\\nJuly 2015\\nJune 2015\\nMay 2015\\nApril 2015\\nMarch 2015\\nFebruary 2015\\nJanuary 2015\\nDecember 2014\\nNovember 2014\\nOctober 2014\\nSeptember 2014\\nAugust 2014\\nJuly 2014\\nJune 2014\\nMay 2014\\nApril 2014\\nMarch 2014\\nFebruary 2014\\nJanuary 2014\\nDecember 2013\\nNovember 2013\\nOctober 2013\\nSeptember 2013\\nAugust 2013\\nJuly 2013\\nJune 2013\\nMay 2013\\nApril 2013\\nMarch 2013\\nJanuary 2013\\nNovember 2012\\nOctober 2012\\nSeptember 2012\\nAugust 2012\\nJuly 2012\\nJune 2012\\nMay 2012\\nApril 2012\\nMarch 2012\\nFebruary 2012\\nJanuary 2012\\nNovember 2011\\nOctober 2011\\nSeptember 2011\\nAugust 2011\\nMay 2011\\nApril 2011\\nMarch 2011\\nFebruary 2011\\nJanuary 2011\\nDecember 2010\\nNovember 2010\\nOctober 2010\\nSeptember 2010\\nAugust 2010\\nJuly 2010\\nJune 2010\\nMay 2010\\nApril 2010\\nMarch 2010\\nFebruary 2010\\nJanuary 2010\\nDecember 2009\\nNovember 2009\\nOctober 2009\\nSeptember 2009\\nMarch 2009\\n\\n\\n\\n\\n \\n\\n\\n\\n\\n\\n\\n\\n\\n\\n\\n\\nStay informed\\n\\n\\n\\n\\nBy subscribing you agree to our Terms of Use and Privacy Policy\\n\\n\\n\\n\\n\\n\\n\\n\\n\\n\\n\\n\\n\\n\\n\\n\\n\\n\\n\\n\\n\\n\\n\\n\\n\\n\\n\\n\\n\\n\\n\\n\\n\\n\\n\\n\\n\\n\\n\\n\\n\\n\\n\\n\\n\\n\\n\\nLogin\\n\\nTheme\\n\\nLight\\nDark\\n\\n \\n\\n\\n\\n\\n\\n\\n\\n\\n\\n\\n\\n\\n\\n\\n\\n \\n\\n\\n\\n\\nCode Block\\n\\n×\\n\\n\\n\\n\\n\\nPaste your code snippet\\n\\n\\n\\n\\nCancel\\nOk\\n\\n\\n\\n\\n\\n\\n\\n\\n\\n\\n\\n\\n            Feedback \\n\\n\\n\\n\\n\\n\\n\\n\\n\\n\\n\\n\\nWhat's new\\n\\n\\nSurface Laptop Studio 2\\n\\n\\nSurface Laptop Go 3\\n\\n\\nSurface Pro 9\\n\\n\\nSurface Laptop 5\\n\\n\\nSurface Studio 2+\\n\\n\\nCopilot in Windows\\n\\n\\nMicrosoft 365\\n\\n\\nWindows 11 apps\\n\\n\\n\\n\\nMicrosoft Store\\n\\n\\nAccount profile\\n\\n\\nDownload Center\\n\\n\\nMicrosoft Store support\\n\\n\\nReturns\\n\\n\\nOrder tracking\\n\\n\\nCertified Refurbished\\n\\n\\nMicrosoft Store Promise\\n\\n\\nFlexible Payments\\n\\n\\n\\n\\nEducation\\n\\n\\nMicrosoft in education\\n\\n\\nDevices for education\\n\\n\\nMicrosoft Teams for Education\\n\\n\\nMicrosoft 365 Education\\n\\n\\nHow to buy for your school\\n\\n\\nEducator training and development\\n\\n\\nDeals for students and parents\\n\\n\\nAzure for students\\n\\n\\n\\n\\n\\n\\nBusiness\\n\\n\\nMicrosoft Cloud\\n\\n\\nMicrosoft Security\\n\\n\\nDynamics 365\\n\\n\\nMicrosoft 365\\n\\n\\nMicrosoft Power Platform\\n\\n\\nMicrosoft Teams\\n\\n\\nMicrosoft Industry\\n\\n\\nSmall Business\\n\\n\\n\\n\\nDeveloper & IT\\n\\n\\nAzure\\n\\n\\nDeveloper Center\\n\\n\\nDocumentation\\n\\n\\nMicrosoft Learn\\n\\n\\nMicrosoft Tech Community\\n\\n\\nAzure Marketplace\\n\\n\\nAppSource\\n\\n\\nVisual Studio\\n\\n\\n\\n\\nCompany\\n\\n\\nCareers\\n\\n\\nAbout Microsoft\\n\\n\\nCompany news\\n\\n\\nPrivacy at Microsoft\\n\\n\\nInvestors\\n\\n\\nDiversity and inclusion\\n\\n\\nAccessibility\\n\\n\\nSustainability\\n\\n\\n\\n\\n\\n\\n\\n\\nCalifornia Consumer Privacy Act (CCPA) Opt-Out Icon\\n\\n\\n\\n\\n\\nYour Privacy Choices\\n\\n\\n\\n\\nCalifornia Consumer Privacy Act (CCPA) Opt-Out Icon\\n\\n\\n\\n\\n\\nYour Privacy Choices\\n\\n\\n\\n\\n\\nSitemap\\n\\n\\nContact Microsoft\\n\\n\\nPrivacy \\n\\n\\nManage cookies\\n\\n\\nTerms of use\\n\\n\\nTrademarks\\n\\n\\nSafety & eco\\n\\n\\nRecycling\\n\\n\\nAbout our ads\\n\\n© Microsoft 2024\\n\\n\\n\\n\\n\\n\\n\\n\\n\\n\\n\\n\\n\\n\""
      ]
     },
     "execution_count": 16,
     "metadata": {},
     "output_type": "execute_result"
    }
   ],
   "source": [
    "loader = WebBaseLoader(\"https://devblogs.microsoft.com/visualstudio/managing-secrets-securely-in-the-cloud/\")\n",
    "docs = loader.load()\n",
    "#docs[0].page_content\n"
   ]
  },
  {
   "cell_type": "code",
   "execution_count": 13,
   "metadata": {},
   "outputs": [
    {
     "name": "stdout",
     "output_type": "stream",
     "text": [
      "The Visual Studio Blog post from November 17, 2017, discusses new features introduced to help developers securely manage secrets (like API keys and passwords) in the cloud, particularly when using Azure. The highlighted features include the App Services Authentication Extension for Visual Studio 2017 version 15.5 or later, Managed Service Identity (MSI) support in Azure App Services, ASP.NET Key Vault and User Secret Configuration builders for .NET 4.7.1, and the Credential Scanner (CredScan) Code Analyzer Preview. These tools aim to prevent the accidental exposure of secrets, a common issue that can lead to security vulnerabilities and financial losses, by facilitating the safe storage and access of secrets in Azure Key Vault and improving local development workflows without compromising security. The blog emphasizes the importance of keeping secrets out of source code and environment variables, providing solutions for both individual and team environments, and solicits feedback on the early preview of the Credential Scan Code Analyzer.\n"
     ]
    }
   ],
   "source": [
    "from langchain.chains.combine_documents.stuff import StuffDocumentsChain\n",
    "from langchain.chains.llm import LLMChain\n",
    "from langchain.prompts import PromptTemplate\n",
    "\n",
    "# Define prompt\n",
    "prompt_template = \"\"\"Write a concise summary of the following:\n",
    "\"{text}\"\n",
    "CONCISE SUMMARY:\"\"\"\n",
    "prompt = PromptTemplate.from_template(prompt_template)\n",
    "\n",
    "# Define LLM chain\n",
    "llm_chain = LLMChain(llm=model, prompt=prompt)\n",
    "\n",
    "# Define StuffDocumentsChain\n",
    "stuff_chain = StuffDocumentsChain(llm_chain=llm_chain, document_variable_name=\"text\")\n",
    "\n",
    "print(stuff_chain.run(docs))\n",
    "\n"
   ]
  }
 ],
 "metadata": {
  "kernelspec": {
   "display_name": "Python 3",
   "language": "python",
   "name": "python3"
  },
  "language_info": {
   "codemirror_mode": {
    "name": "ipython",
    "version": 3
   },
   "file_extension": ".py",
   "mimetype": "text/x-python",
   "name": "python",
   "nbconvert_exporter": "python",
   "pygments_lexer": "ipython3",
   "version": "3.9.13"
  }
 },
 "nbformat": 4,
 "nbformat_minor": 2
}

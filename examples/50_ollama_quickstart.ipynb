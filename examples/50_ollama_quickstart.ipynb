{
 "cells": [
  {
   "cell_type": "markdown",
   "metadata": {},
   "source": [
    "how to use ollama.  \n",
    "\n",
    "https://python.langchain.com/docs/integrations/llms/ollama\n",
    "\n",
    "after you install ollama for windows, you can check \"http://localhost:11434/\" to see if local model is running"
   ]
  },
  {
   "cell_type": "markdown",
   "metadata": {},
   "source": [
    "if you want to try different model please refer to this link   https://github.com/ollama/ollama#model-library\n",
    "\n",
    "ex. to install llama2:13b , type in this\n",
    "\n",
    ">> ollama pull llama2:13b"
   ]
  },
  {
   "cell_type": "code",
   "execution_count": 7,
   "metadata": {},
   "outputs": [
    {
     "name": "stdout",
     "output_type": "stream",
     "text": [
      "Using OLLAMA\n"
     ]
    }
   ],
   "source": [
    "import os\n",
    "from dotenv import load_dotenv\n",
    "\n",
    "load_dotenv(override=True)\n",
    "\n",
    "# check if USE_OLLAMA is True\n",
    "if os.getenv('USE_OLLAMA') == 'True':\n",
    "    print('Using OLLAMA')\n",
    "if os.getenv('USE_OPENAI') == 'True':\n",
    "    print('Using OpenAI') "
   ]
  },
  {
   "cell_type": "code",
   "execution_count": 8,
   "metadata": {},
   "outputs": [
    {
     "data": {
      "text/plain": [
       "'The answer to \"two plus two\" is 4.'"
      ]
     },
     "execution_count": 8,
     "metadata": {},
     "output_type": "execute_result"
    }
   ],
   "source": [
    "from langchain_community.llms import Ollama\n",
    "\n",
    "#llm = Ollama(model=\"llama2:13b\")\n",
    "llm = Ollama(model=\"llama2\")\n",
    "llm.invoke(\"what is two plus two\")\n",
    "\n",
    "\n"
   ]
  },
  {
   "cell_type": "code",
   "execution_count": 9,
   "metadata": {},
   "outputs": [],
   "source": [
    "from langchain_core.prompts import ChatPromptTemplate\n",
    "\n",
    "prompt = ChatPromptTemplate.from_messages([\n",
    "    (\"system\", \"you are technical documentation writer.\"), \n",
    "    (\"user\", \"{input}\")\n",
    "])\n",
    "\n",
    "#print(prompt.format_messages(input = \"what is your job?\"))\n",
    "\n",
    "chain = prompt | llm"
   ]
  },
  {
   "cell_type": "code",
   "execution_count": 10,
   "metadata": {},
   "outputs": [
    {
     "data": {
      "text/plain": [
       "'As a technical documentation writer, I\\'d be happy to explain the NVMe command set!\\n\\nNVMe (Non-Volatile Memory Express) is a high-speed storage interface that allows for faster data transfer between a computer and a solid-state drive (SSD) or other storage device. The NVMe command set is a set of protocols and commands used by the host system to communicate with the NVMe device.\\n\\nThe NVMe command set includes a range of commands that allow the host system to perform various tasks, such as:\\n\\n1. Reading data from the NVMe device: The host system can use the \"Read\" command to transfer data from the NVMe device to its memory. This command takes into account the size of the data being read, the location of the data on the NVMe device, and other factors to optimize the read operation.\\n2. Writing data to the NVMe device: The host system can use the \"Write\" command to transfer data from its memory to the NVMe device. This command takes into account the size of the data being written, the location of the data on the NVMe device, and other factors to optimize the write operation.\\n3. Flushing data from the NVMe device: The host system can use the \"Flush\" command to remove data from the NVMe device\\'s cache, ensuring that any data stored in the cache is written back to the device.\\n4. Checking the status of the NVMe device: The host system can use the \"Status\" command to query the NVMe device for its current status, such as the number of available commands, the amount of free space on the device, and other information.\\n5. Performing administrative tasks: The host system can use the \"Admin\" command to perform various administrative tasks, such as configuring the NVMe device\\'s cache, setting up the device for different operating systems, and more.\\n6. Error handling: The NVMe command set includes commands for handling errors that may occur during data transfer operations, such as \"Resume\" and \"Abort\".\\n7. Queue management: The NVMe command set includes commands for managing queues of outstanding requests to the NVMe device, such as \"Enqueue\" and \"Dequeue\".\\n8. Device management: The NVMe command set includes commands for managing the NVMe device itself, such as \"GetDeviceInfo\" and \"SetPowerState\".\\n9. Security: The NVMe command set includes commands for securing data transfers between the host system and the NVMe device, such as \"Encrypt\" and \"Decrypt\".\\n10. Performance optimization: The NVMe command set includes commands for optimizing performance during data transfer operations, such as \"TagAllocation\" and \"TagDeallocation\".\\n\\nThese are just a few examples of the many commands included in the NVMe command set. By using these commands, host systems can efficiently communicate with NVMe devices and optimize data transfer operations.'"
      ]
     },
     "execution_count": 10,
     "metadata": {},
     "output_type": "execute_result"
    }
   ],
   "source": [
    "#chain.invoke({\"input\": \"what three plus three?\"})\n",
    "chain.invoke({\"input\": \"tell me about NVMe command set\"})\n"
   ]
  }
 ],
 "metadata": {
  "kernelspec": {
   "display_name": "Python 3",
   "language": "python",
   "name": "python3"
  },
  "language_info": {
   "codemirror_mode": {
    "name": "ipython",
    "version": 3
   },
   "file_extension": ".py",
   "mimetype": "text/x-python",
   "name": "python",
   "nbconvert_exporter": "python",
   "pygments_lexer": "ipython3",
   "version": "3.9.13"
  }
 },
 "nbformat": 4,
 "nbformat_minor": 2
}

{
 "cells": [
  {
   "cell_type": "markdown",
   "metadata": {},
   "source": [
    "reference.\n",
    "\n",
    "https://python.langchain.com/docs/expression_language/get_started"
   ]
  },
  {
   "cell_type": "code",
   "execution_count": null,
   "metadata": {},
   "outputs": [],
   "source": [
    "%pip install faiss-cpu"
   ]
  },
  {
   "cell_type": "code",
   "execution_count": 15,
   "metadata": {},
   "outputs": [
    {
     "name": "stdout",
     "output_type": "stream",
     "text": [
      "Using OLLAMA\n"
     ]
    }
   ],
   "source": [
    "from langchain_community.vectorstores import FAISS\n",
    "from langchain.text_splitter import RecursiveCharacterTextSplitter\n",
    "from langchain_core.output_parsers import StrOutputParser\n",
    "from langchain_core.prompts import ChatPromptTemplate\n",
    "from langchain_core.runnables import RunnableParallel, RunnablePassthrough\n",
    "from langchain_openai.chat_models import ChatOpenAI\n",
    "from langchain_openai.embeddings import OpenAIEmbeddings\n",
    "\n",
    "import os\n",
    "from dotenv import load_dotenv\n",
    "\n",
    "\n",
    "load_dotenv(override=True)\n",
    "\n",
    "# check if USE_OLLAMA is True\n",
    "if os.getenv('USE_OLLAMA') == 'True':\n",
    "    print('Using OLLAMA')\n",
    "if os.getenv('USE_OPENAI') == 'True':\n",
    "    print('Using OpenAI') \n"
   ]
  },
  {
   "cell_type": "markdown",
   "metadata": {},
   "source": [
    "Facebook AI Similarity Search (Faiss) is a library for efficient similarity search and clustering of dense vectors.\n",
    "\n",
    "search result will be fetched by retriever and it'll be used as context"
   ]
  },
  {
   "cell_type": "code",
   "execution_count": 16,
   "metadata": {},
   "outputs": [],
   "source": [
    "from langchain_community.document_loaders import TextLoader\n",
    "from langchain.text_splitter import CharacterTextSplitter\n",
    "from langchain.embeddings import GPT4AllEmbeddings\n",
    "\n",
    "\n",
    "raw_documents = TextLoader('./private_text.txt').load()\n",
    "text_splitter = CharacterTextSplitter(chunk_size=1000, chunk_overlap=0)\n",
    "documents = text_splitter.split_documents(raw_documents)\n",
    "\n",
    "vectorstore = FAISS.from_documents(documents, embedding=GPT4AllEmbeddings())\n",
    "\n",
    "retriever = vectorstore.as_retriever()"
   ]
  },
  {
   "cell_type": "markdown",
   "metadata": {},
   "source": [
    "make a template with context"
   ]
  },
  {
   "cell_type": "code",
   "execution_count": 17,
   "metadata": {},
   "outputs": [],
   "source": [
    "from langchain_community.llms import Ollama\n",
    "from langchain_community.chat_models import ChatOllama\n",
    "\n",
    "template = \"\"\"Answer the question based only on the following context:\n",
    "{context}\n",
    "\n",
    "Question: {question}\n",
    "\"\"\"\n",
    "prompt = ChatPromptTemplate.from_template(template)\n",
    "#llm = Ollama(model=\"llama2\")\n",
    "llm = ChatOllama(model=\"llama2\")\n",
    "\n",
    "#model = ChatOpenAI(openai_api_key=os.environ[\"OPENAI_API_KEY\"], model_name=\"gpt-4-0125-preview\")\n",
    "\n",
    "output_parser = StrOutputParser()\n"
   ]
  },
  {
   "cell_type": "markdown",
   "metadata": {},
   "source": [
    "context include custom test resutls fetched by the retriever. \n",
    "question will contain user's question."
   ]
  },
  {
   "cell_type": "code",
   "execution_count": 18,
   "metadata": {},
   "outputs": [
    {
     "data": {
      "text/plain": [
       "'Based on the provided context, FunnyIO appears to be a high-performance and scalable host controller interface designed for accessing solid-state drives (SSDs) over a PCIExpress (PCIe) bus. Developing FunnyIO drivers is crucial for enabling efficient communication between the operating system and FunnyIO storage devices.\\n\\nSome key aspects of FunnyIO driver development include:\\n\\n1. Understanding the FunnyIO protocol: The FunnyIO protocol is designed to take advantage of the low latency and parallelism of modern SSDs. It provides efficient command submission and completion mechanisms, enabling high-speed data transfers between the host and the storage device.\\n2. PCIe interface: FunnyIO drivers interact with FunnyIO storage devices over a PCIe interface. Therefore, understanding PCIe bus architecture and communication protocols is essential for developing efficient FunnyIO drivers.\\n3. Memory management: FunnyIO drivers need to manage memory resources efficiently to optimize data transfers between the host and the storage device. Proper memory allocation and deallocation strategies are critical for maintaining system stability and performance.\\n4. Command queues: FunnyIO drivers utilize command queues to submit and process I/O commands to the storage device. Implementing efficient command queue management algorithms can significantly improve the overall performance of FunnyIO storage systems.\\n5. Error handling: Handling errors and exceptions gracefully is essential for ensuring the reliability and robustness of FunnyIO drivers. Implementing error recovery mechanisms and logging mechanisms can help in diagnosing and resolving issues in FunnyIO storage systems.\\n\\nOverall, developing efficient and reliable FunnyIO drivers requires a deep understanding of the FunnyIO protocol, PCIe interface, memory management, command queues, and error handling techniques.'"
      ]
     },
     "execution_count": 18,
     "metadata": {},
     "output_type": "execute_result"
    }
   ],
   "source": [
    "\n",
    "chain = (\n",
    "    {\"context\": retriever, \"question\": RunnablePassthrough()}\n",
    "    | prompt \n",
    "    | llm \n",
    "    | output_parser\n",
    ")\n",
    "\n",
    "chain.invoke(\"tell me about the funnyIO\")"
   ]
  }
 ],
 "metadata": {
  "kernelspec": {
   "display_name": "Python 3",
   "language": "python",
   "name": "python3"
  },
  "language_info": {
   "codemirror_mode": {
    "name": "ipython",
    "version": 3
   },
   "file_extension": ".py",
   "mimetype": "text/x-python",
   "name": "python",
   "nbconvert_exporter": "python",
   "pygments_lexer": "ipython3",
   "version": "3.9.13"
  }
 },
 "nbformat": 4,
 "nbformat_minor": 2
}

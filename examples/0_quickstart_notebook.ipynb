{
 "cells": [
  {
   "cell_type": "markdown",
   "metadata": {},
   "source": [
    "references\n",
    "\n",
    "https://python.langchain.com/docs/expression_language/get_started\n"
   ]
  },
  {
   "cell_type": "code",
   "execution_count": null,
   "metadata": {},
   "outputs": [],
   "source": [
    "%pip install langchain"
   ]
  },
  {
   "cell_type": "markdown",
   "metadata": {},
   "source": [
    "to access the openAI API, you need an API key which you can get it from  https://platform.openai.com/api-keys\n",
    "once you have a key then you can either save it as an environment variable or hard code in as needed from simplicity"
   ]
  },
  {
   "cell_type": "code",
   "execution_count": 8,
   "metadata": {},
   "outputs": [],
   "source": [
    "import os\n",
    "os.environ[\"OPEN_API_KEY\"] = \"your key here\""
   ]
  },
  {
   "cell_type": "markdown",
   "metadata": {},
   "source": [
    "initialize OpenAI model"
   ]
  },
  {
   "cell_type": "code",
   "execution_count": 14,
   "metadata": {},
   "outputs": [],
   "source": [
    "from langchain_openai import ChatOpenAI\n",
    "\n",
    "llm = ChatOpenAI(openai_api_key=os.environ[\"OPEN_API_KEY\"])\n",
    "\n"
   ]
  },
  {
   "cell_type": "markdown",
   "metadata": {},
   "source": [
    "let's say Hi"
   ]
  },
  {
   "cell_type": "code",
   "execution_count": 15,
   "metadata": {},
   "outputs": [
    {
     "data": {
      "text/plain": [
       "AIMessage(content='Good morning! How can I assist you today?')"
      ]
     },
     "execution_count": 15,
     "metadata": {},
     "output_type": "execute_result"
    }
   ],
   "source": [
    "llm.invoke(\"good morning\")"
   ]
  },
  {
   "cell_type": "markdown",
   "metadata": {},
   "source": [
    "let's use prompt template to convert raw user input to prompt\n",
    "pipe operator (|) is used to chain together multiple function calls. \n",
    "it takes the output of one function and pass as input to the next"
   ]
  },
  {
   "cell_type": "code",
   "execution_count": 16,
   "metadata": {},
   "outputs": [],
   "source": [
    "from langchain_core.prompts import ChatPromptTemplate\n",
    "prompt = ChatPromptTemplate.from_messages([\n",
    "    (\"system\", \"you are technical documentation writer.\"), \n",
    "    (\"user\", \"{input}\")\n",
    "])\n",
    "\n",
    "chain = prompt | llm"
   ]
  },
  {
   "cell_type": "code",
   "execution_count": 24,
   "metadata": {},
   "outputs": [
    {
     "data": {
      "text/plain": [
       "AIMessage(content=\"PCIe margining is a technique used to assess and analyze the performance and reliability of a PCIe (Peripheral Component Interconnect Express) link. It involves measuring and adjusting the electrical parameters of the PCIe signals to ensure they meet the required specifications and can reliably transmit data.\\n\\nMargining is typically done during the system validation or production testing phase to ensure that the PCIe link operates within acceptable performance limits. It helps identify any potential issues or weaknesses in the link's electrical characteristics and allows for adjustments to be made to improve signal integrity.\\n\\nThe main purpose of PCIe margining is to determine the link's ability to handle different operating conditions, such as variations in voltage levels, temperature, and noise interference. By intentionally altering the electrical parameters, such as signal amplitude, timing, and voltage levels, engineers can evaluate the link's performance under different scenarios and ensure its robustness.\\n\\nMargining is usually performed using specialized equipment, such as PCIe margining cards or tools, which can generate controlled variations in the electrical parameters and measure the link's response. The test results are then analyzed to determine if the link meets the specified performance requirements or if any adjustments are needed to optimize its performance.\\n\\nOverall, PCIe margining is an essential process in validating and optimizing the performance and reliability of PCIe links, ensuring that they can handle the demands of high-speed data transmission in modern computer systems.\")"
      ]
     },
     "execution_count": 24,
     "metadata": {},
     "output_type": "execute_result"
    }
   ],
   "source": [
    "chain.invoke({\"input\": \"what is pcie margining?\"})"
   ]
  },
  {
   "cell_type": "markdown",
   "metadata": {},
   "source": [
    "let's convet output to easy to read string"
   ]
  },
  {
   "cell_type": "code",
   "execution_count": 25,
   "metadata": {},
   "outputs": [
    {
     "data": {
      "text/plain": [
       "\"PCIe margining is a technique used to test and validate the performance of PCIe (Peripheral Component Interconnect Express) devices. It involves adjusting the signal timing and voltage levels to test the device's ability to operate reliably under different operating conditions.\\n\\nThe purpose of PCIe margining is to ensure that a device can function correctly even in the presence of signal degradation or noise. It helps in identifying potential issues or limitations in the device's performance and allows for adjustments to be made to improve its overall reliability.\\n\\nDuring margining, various parameters such as voltage levels, timing, and equalization settings are adjusted to intentionally stress the device and determine its performance margins. The device is then tested under these margining conditions to evaluate its ability to operate within specified tolerances.\\n\\nMargining can be performed at different stages of the PCIe link, including transmitter, receiver, or complete link margining. Transmitter margining involves adjusting the signal levels and equalization settings at the source, while receiver margining involves adjusting the receiver's sensitivity and equalization settings. Complete link margining involves margining both the transmitter and receiver simultaneously.\\n\\nBy performing PCIe margining, device manufacturers and system integrators can ensure that their PCIe devices can reliably operate in various real-world scenarios, including different signal degradation conditions. This helps in improving the quality and performance of PCIe devices and ensures overall system compatibility and stability.\""
      ]
     },
     "execution_count": 25,
     "metadata": {},
     "output_type": "execute_result"
    }
   ],
   "source": [
    "from langchain_core.output_parsers import StrOutputParser\n",
    "output_parser = StrOutputParser()\n",
    "\n",
    "chain = prompt | llm | output_parser\n",
    "\n",
    "chain.invoke({\"input\": \"what is pcie margining?\"})"
   ]
  }
 ],
 "metadata": {
  "kernelspec": {
   "display_name": "Python 3",
   "language": "python",
   "name": "python3"
  },
  "language_info": {
   "codemirror_mode": {
    "name": "ipython",
    "version": 3
   },
   "file_extension": ".py",
   "mimetype": "text/x-python",
   "name": "python",
   "nbconvert_exporter": "python",
   "pygments_lexer": "ipython3",
   "version": "3.9.13"
  }
 },
 "nbformat": 4,
 "nbformat_minor": 2
}

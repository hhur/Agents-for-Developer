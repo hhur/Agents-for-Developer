{
 "cells": [
  {
   "cell_type": "markdown",
   "metadata": {},
   "source": [
    "to access the openAI API, you need an API key which you can get it from  https://platform.openai.com/api-keys\n",
    "once you have a key then you can either save it as an environment variable or hard code in as needed from simplicity"
   ]
  },
  {
   "cell_type": "code",
   "execution_count": 17,
   "metadata": {},
   "outputs": [
    {
     "data": {
      "text/plain": [
       "True"
      ]
     },
     "execution_count": 17,
     "metadata": {},
     "output_type": "execute_result"
    }
   ],
   "source": [
    "from langchain_community.vectorstores import FAISS\n",
    "from langchain_core.output_parsers import StrOutputParser\n",
    "from langchain_core.prompts import ChatPromptTemplate\n",
    "from langchain_core.runnables import RunnableParallel, RunnablePassthrough\n",
    "from langchain_openai.chat_models import ChatOpenAI\n",
    "from langchain_openai.embeddings import OpenAIEmbeddings\n",
    "\n",
    "from dotenv import load_dotenv\n",
    "\n",
    "load_dotenv(override=True)\n",
    "#os.environ[\"OPENAI_API_KEY\"] = \"your key\"\n",
    "\n"
   ]
  },
  {
   "cell_type": "code",
   "execution_count": 18,
   "metadata": {},
   "outputs": [],
   "source": [
    "import os\n",
    "\n",
    "template = \"\"\"Answer the question based only on the following context:\n",
    "{context}\n",
    "\n",
    "Question: {question}\n",
    "\"\"\"\n",
    "prompt = ChatPromptTemplate.from_template(template)\n",
    "model = ChatOpenAI(openai_api_key=os.environ[\"OPENAI_API_KEY\"], model_name=\"gpt-4-0125-preview\")\n",
    "output_parser = StrOutputParser()\n"
   ]
  },
  {
   "cell_type": "markdown",
   "metadata": {},
   "source": [
    "Use document loaders to load data from a source as Document\n",
    "\n",
    "Facebook AI Similarity Search (Faiss) is a library for efficient similarity search and clustering of dense vectors.\n",
    "\n",
    "search result will be fetched by retriever and it'll be used as context"
   ]
  },
  {
   "cell_type": "code",
   "execution_count": 19,
   "metadata": {},
   "outputs": [
    {
     "name": "stdout",
     "output_type": "stream",
     "text": [
      "Requirement already satisfied: pypdf in c:\\python39\\lib\\site-packages (4.0.2)\n",
      "Requirement already satisfied: typing_extensions>=3.7.4.3 in c:\\python39\\lib\\site-packages (from pypdf) (4.9.0)\n",
      "Note: you may need to restart the kernel to use updated packages.\n"
     ]
    }
   ],
   "source": [
    "%pip install pypdf"
   ]
  },
  {
   "cell_type": "markdown",
   "metadata": {},
   "source": [
    "you can also load directory using directory loader.\n",
    "and split a long document into smaller chunks that can fit into your model's context window."
   ]
  },
  {
   "cell_type": "code",
   "execution_count": 20,
   "metadata": {},
   "outputs": [],
   "source": [
    "from langchain_community.document_loaders import DirectoryLoader\n",
    "from langchain_community.document_loaders import PyPDFLoader\n",
    "from langchain.text_splitter import RecursiveCharacterTextSplitter\n",
    "\n",
    "\n",
    "raw_documents = DirectoryLoader('../article', glob=\"*.pdf\", loader_cls=PyPDFLoader).load()\n",
    "\n",
    "text_splitter = RecursiveCharacterTextSplitter(chunk_size=1000, chunk_overlap=0)\n",
    "documents = text_splitter.split_documents(raw_documents)\n",
    "\n"
   ]
  },
  {
   "cell_type": "markdown",
   "metadata": {},
   "source": [
    "Facebook AI Similarity Search (Faiss) is a library for efficient similarity search and clustering of dense vectors.\n",
    "\n",
    "search result will be fetched by retriever and it'll be used as context"
   ]
  },
  {
   "cell_type": "code",
   "execution_count": 21,
   "metadata": {},
   "outputs": [],
   "source": [
    "from langchain_community.vectorstores import FAISS\n",
    "from langchain_openai.embeddings import OpenAIEmbeddings\n",
    "\n",
    "\n",
    "vectorstore = FAISS.from_documents(documents, embedding=OpenAIEmbeddings(openai_api_key=os.environ[\"OPENAI_API_KEY\"]))\n",
    "\n",
    "retriever = vectorstore.as_retriever()\n"
   ]
  },
  {
   "cell_type": "markdown",
   "metadata": {},
   "source": [
    "invoke question"
   ]
  },
  {
   "cell_type": "code",
   "execution_count": 23,
   "metadata": {},
   "outputs": [
    {
     "name": "stdout",
     "output_type": "stream",
     "text": [
      "('Ramda AI is an innovative artificial intelligence (AI) platform that '\n",
      " 'combines advanced technologies to help businesses enhance their operations, '\n",
      " 'make better decisions, and improve customer experiences. It leverages '\n",
      " 'state-of-the-art machine learning algorithms, natural language processing '\n",
      " '(NLP) techniques, and predictive analytics to enable organizations to derive '\n",
      " 'valuable insights from their data, leading to informed decision-making.\\n'\n",
      " '\\n'\n",
      " 'Key features of Ramda AI include:\\n'\n",
      " '\\n'\n",
      " '1. **Machine Learning Algorithms**: The platform uses cutting-edge machine '\n",
      " 'learning to analyze data, identify patterns, and make accurate predictions. '\n",
      " 'It learns continuously from new data, allowing it to adapt to changing '\n",
      " 'business environments.\\n'\n",
      " '\\n'\n",
      " '2. **Natural Language Processing (NLP)**: Ramda AI incorporates NLP to '\n",
      " 'understand and interpret unstructured data such as text, speech, and images. '\n",
      " 'This capability enables businesses to extract meaningful information from '\n",
      " 'diverse data sources.\\n'\n",
      " '\\n'\n",
      " '3. **Predictive Analytics**: The platform helps organizations forecast '\n",
      " 'future trends, identify potential risks, and optimize decision-making by '\n",
      " 'analyzing historical data and trends.\\n'\n",
      " '\\n'\n",
      " '4. **Automation**: Ramda AI automates repetitive tasks like data entry, '\n",
      " 'analysis, and reporting, which helps increase operational efficiency and '\n",
      " 'productivity by freeing up employees to focus on more strategic activities.\\n'\n",
      " '\\n'\n",
      " '5. **Personalization**: It offers personalized recommendations and insights '\n",
      " 'based on individual preferences and behavior, enhancing customer engagement, '\n",
      " 'loyalty, and satisfaction.\\n'\n",
      " '\\n'\n",
      " 'Use Cases:\\n'\n",
      " '\\n'\n",
      " '- **Customer Relationship Management (CRM)**: Ramda AI can analyze customer '\n",
      " 'data to predict buying behaviors and recommend personalized offers, '\n",
      " 'improving customer retention and loyalty.\\n'\n",
      " '- **Supply Chain Management**: It optimizes inventory levels, predicts '\n",
      " 'demand fluctuations, and streamlines logistics operations, helping '\n",
      " 'businesses reduce costs and improve service levels.\\n'\n",
      " '- **Financial Services**: The platform can detect fraudulent activities, '\n",
      " 'assess credit risks, and automate investment decisions, enhancing security '\n",
      " 'and compliance for financial institutions.\\n'\n",
      " '\\n'\n",
      " 'In conclusion, Ramda AI is a versatile platform that harnesses the power of '\n",
      " 'AI technologies like machine learning, NLP, and predictive analytics to '\n",
      " 'drive innovation, optimize processes, and secure a competitive advantage for '\n",
      " 'businesses in the digital economy. With its user-friendly interface and '\n",
      " 'customizable modules, Ramda AI represents a valuable tool for organizations '\n",
      " 'aiming to leverage AI to transform their operations.')\n"
     ]
    }
   ],
   "source": [
    "from pprint import pprint\n",
    "\n",
    "chain = (\n",
    "    {\"context\": retriever, \"question\": RunnablePassthrough()}\n",
    "    | prompt \n",
    "    | model \n",
    "    | output_parser\n",
    ")\n",
    "\n",
    "pprint(chain.invoke(\"tell me about ramda AI\"))"
   ]
  }
 ],
 "metadata": {
  "kernelspec": {
   "display_name": "Python 3",
   "language": "python",
   "name": "python3"
  },
  "language_info": {
   "codemirror_mode": {
    "name": "ipython",
    "version": 3
   },
   "file_extension": ".py",
   "mimetype": "text/x-python",
   "name": "python",
   "nbconvert_exporter": "python",
   "pygments_lexer": "ipython3",
   "version": "3.9.13"
  }
 },
 "nbformat": 4,
 "nbformat_minor": 2
}

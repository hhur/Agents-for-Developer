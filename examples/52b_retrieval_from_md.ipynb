{
 "cells": [
  {
   "cell_type": "markdown",
   "metadata": {},
   "source": [
    "to access the openAI API, you need an API key which you can get it from  https://platform.openai.com/api-keys\n",
    "once you have a key then you can either save it as an environment variable or hard code in as needed from simplicity"
   ]
  },
  {
   "cell_type": "code",
   "execution_count": 1,
   "metadata": {},
   "outputs": [
    {
     "name": "stdout",
     "output_type": "stream",
     "text": [
      "Using OLLAMA\n"
     ]
    }
   ],
   "source": [
    "from langchain_community.vectorstores import FAISS\n",
    "from langchain_core.output_parsers import StrOutputParser\n",
    "from langchain_core.prompts import ChatPromptTemplate\n",
    "from langchain_core.runnables import RunnableParallel, RunnablePassthrough\n",
    "from langchain_openai.chat_models import ChatOpenAI\n",
    "from langchain_openai.embeddings import OpenAIEmbeddings\n",
    "import os\n",
    "from dotenv import load_dotenv\n",
    "\n",
    "\n",
    "load_dotenv(override=True)\n",
    "\n",
    "# check if USE_OLLAMA is True\n",
    "if os.getenv('USE_OLLAMA') == 'True':\n",
    "    print('Using OLLAMA')\n",
    "if os.getenv('USE_OPENAI') == 'True':\n",
    "    print('Using OpenAI') \n",
    "\n"
   ]
  },
  {
   "cell_type": "code",
   "execution_count": 2,
   "metadata": {},
   "outputs": [],
   "source": [
    "import os\n",
    "from langchain_community.llms import Ollama\n",
    "from langchain_community.chat_models import ChatOllama\n",
    "\n",
    "template = \"\"\"Answer the question based only on the following context:\n",
    "{context}\n",
    "\n",
    "Question: {question}\n",
    "\"\"\"\n",
    "prompt = ChatPromptTemplate.from_template(template)\n",
    "\n",
    "#model = ChatOpenAI(openai_api_key=os.environ[\"OPENAI_API_KEY\"], model_name=\"gpt-4-0125-preview\")\n",
    "model = ChatOllama(model=\"llama2\")\n",
    "\n",
    "output_parser = StrOutputParser()\n"
   ]
  },
  {
   "cell_type": "markdown",
   "metadata": {},
   "source": [
    "Use document loaders to load data from a source as Document\n",
    "\n",
    "Facebook AI Similarity Search (Faiss) is a library for efficient similarity search and clustering of dense vectors.\n",
    "\n",
    "search result will be fetched by retriever and it'll be used as context"
   ]
  },
  {
   "cell_type": "code",
   "execution_count": 4,
   "metadata": {},
   "outputs": [],
   "source": [
    "from langchain_community.document_loaders import TextLoader\n",
    "from langchain.text_splitter import CharacterTextSplitter\n",
    "from langchain.embeddings import GPT4AllEmbeddings\n",
    "\n",
    "import os\n",
    "\n",
    "raw_documents = TextLoader('../article/funnyIO_development.md').load()\n",
    "\n",
    "text_splitter = CharacterTextSplitter(chunk_size=1000, chunk_overlap=0)\n",
    "documents = text_splitter.split_documents(raw_documents)\n",
    "\n",
    "#vectorstore = FAISS.from_documents(documents, embedding=OpenAIEmbeddings(openai_api_key=os.environ[\"OPENAI_API_KEY\"]))\n",
    "vectorstore = FAISS.from_documents(documents, embedding=GPT4AllEmbeddings())\n",
    "\n",
    "\n",
    "retriever = vectorstore.as_retriever()"
   ]
  },
  {
   "cell_type": "code",
   "execution_count": 5,
   "metadata": {},
   "outputs": [
    {
     "name": "stdout",
     "output_type": "stream",
     "text": [
      "('Based on the provided context, I can provide information about FunnyIO as '\n",
      " 'follows:\\n'\n",
      " '\\n'\n",
      " '1. FunnyIO is a high-performance and scalable host controller interface '\n",
      " 'designed for accessing solid-state drives (SSDs) over a PCIExpress (PCIe) '\n",
      " 'bus.\\n'\n",
      " '2. The FunnyIO protocol provides efficient command submission and completion '\n",
      " 'mechanisms, enabling high-speed data transfers between the host and the '\n",
      " 'storage device.\\n'\n",
      " '3. Developing FunnyIO drivers is crucial for enabling efficient '\n",
      " 'communication between the operating system and FunnyIO storage devices.\\n'\n",
      " '4. Understanding the PCIe interface and communication protocols is essential '\n",
      " 'for developing efficient FunnyIO drivers.\\n'\n",
      " '5. Memory management is a critical aspect of FunnyIO driver development, as '\n",
      " 'proper memory allocation and deallocation strategies are necessary to '\n",
      " 'maintain system stability and performance.\\n'\n",
      " '6. Command queues are used by FunnyIO drivers to submit and process I/O '\n",
      " 'commands to the storage device, and implementing efficient command queue '\n",
      " 'management algorithms can significantly improve the overall performance of '\n",
      " 'FunnyIO storage systems.\\n'\n",
      " '7. Error handling is an essential aspect of FunnyIO driver development, as '\n",
      " 'implementing error recovery mechanisms and logging mechanisms can help '\n",
      " 'diagnose and resolve issues in FunnyIO storage systems.\\n'\n",
      " '8. Advanced topics in FunnyIO driver development include command queues, '\n",
      " 'memory management, and error handling.')\n"
     ]
    }
   ],
   "source": [
    "from pprint import pprint\n",
    "\n",
    "chain = (\n",
    "    {\"context\": retriever, \"question\": RunnablePassthrough()}\n",
    "    | prompt \n",
    "    | model \n",
    "    | output_parser\n",
    ")\n",
    "\n",
    "pprint(chain.invoke(\"tell me about the funnyIO\"))"
   ]
  },
  {
   "cell_type": "markdown",
   "metadata": {},
   "source": [
    "you can also load directory using directory loader.\n",
    "and split a long document into smaller chunks that can fit into your model's context window."
   ]
  },
  {
   "cell_type": "code",
   "execution_count": null,
   "metadata": {},
   "outputs": [],
   "source": [
    "%pip install markdown"
   ]
  },
  {
   "cell_type": "code",
   "execution_count": 8,
   "metadata": {},
   "outputs": [],
   "source": [
    "from langchain_community.document_loaders import DirectoryLoader\n",
    "from langchain_community.document_loaders import PythonLoader\n",
    "from langchain_community.document_loaders import TextLoader\n",
    "from langchain_community.document_loaders import UnstructuredMarkdownLoader\n",
    "from langchain.text_splitter import RecursiveCharacterTextSplitter\n",
    "\n",
    "\n",
    "#raw_documents = DirectoryLoader('../article', glob=\"*.py\", loader_cls=PythonLoader).load()\n",
    "#raw_documents = DirectoryLoader('../article', glob=\"*.txt\", loader_cls=TextLoader).load()\n",
    "raw_documents = DirectoryLoader('../article', glob=\"*.md\", loader_cls=UnstructuredMarkdownLoader).load()\n",
    "\n",
    "text_splitter = RecursiveCharacterTextSplitter(chunk_size=1000, chunk_overlap=0)\n",
    "documents = text_splitter.split_documents(raw_documents)\n",
    "\n",
    "#vectorstore = FAISS.from_documents(documents, embedding=OpenAIEmbeddings(openai_api_key=os.environ[\"OPENAI_API_KEY\"]))\n",
    "vectorstore = FAISS.from_documents(documents, embedding=GPT4AllEmbeddings())\n",
    "\n",
    "retriever = vectorstore.as_retriever()\n"
   ]
  },
  {
   "cell_type": "markdown",
   "metadata": {},
   "source": [
    "invoke question"
   ]
  },
  {
   "cell_type": "code",
   "execution_count": 9,
   "metadata": {},
   "outputs": [
    {
     "name": "stdout",
     "output_type": "stream",
     "text": [
      "('Based on the provided context, there is no information available about an '\n",
      " '\"emerging FunnyIO.\" The articles focus on the basics of FunnyIO driver '\n",
      " 'development and provide insights into various aspects of FunnyIO, including '\n",
      " 'its protocol, PCIe interface, memory management, command queues, error '\n",
      " 'handling, and more.\\n'\n",
      " '\\n'\n",
      " 'Therefore, I cannot provide information about an \"emerging FunnyIO\" as there '\n",
      " 'is no such topic discussed in the provided articles.')\n"
     ]
    }
   ],
   "source": [
    "from pprint import pprint\n",
    "\n",
    "chain = (\n",
    "    {\"context\": retriever, \"question\": RunnablePassthrough()}\n",
    "    | prompt \n",
    "    | model \n",
    "    | output_parser\n",
    ")\n",
    "\n",
    "pprint(chain.invoke(\"tell me about the emerging funnnnyIO\"))"
   ]
  }
 ],
 "metadata": {
  "kernelspec": {
   "display_name": "Python 3",
   "language": "python",
   "name": "python3"
  },
  "language_info": {
   "codemirror_mode": {
    "name": "ipython",
    "version": 3
   },
   "file_extension": ".py",
   "mimetype": "text/x-python",
   "name": "python",
   "nbconvert_exporter": "python",
   "pygments_lexer": "ipython3",
   "version": "3.9.13"
  }
 },
 "nbformat": 4,
 "nbformat_minor": 2
}

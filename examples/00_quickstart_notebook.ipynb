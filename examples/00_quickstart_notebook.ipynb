{
 "cells": [
  {
   "cell_type": "markdown",
   "metadata": {},
   "source": [
    "references\n",
    "\n",
    "https://python.langchain.com/docs/expression_language/get_started\n"
   ]
  },
  {
   "cell_type": "code",
   "execution_count": null,
   "metadata": {},
   "outputs": [],
   "source": [
    "%pip install langchain"
   ]
  },
  {
   "cell_type": "markdown",
   "metadata": {},
   "source": [
    "to access the openAI API, you need an API key which you can get it from  https://platform.openai.com/api-keys\n",
    "once you have a key then you can either save it as an environment variable or hard code in as needed from simplicity"
   ]
  },
  {
   "cell_type": "code",
   "execution_count": 58,
   "metadata": {},
   "outputs": [
    {
     "data": {
      "text/plain": [
       "True"
      ]
     },
     "execution_count": 58,
     "metadata": {},
     "output_type": "execute_result"
    }
   ],
   "source": [
    "import os\n",
    "from dotenv import load_dotenv\n",
    "\n",
    "load_dotenv(override=True)\n",
    "#os.environ[\"OPENAI_API_KEY\"] = \"your key\"\n"
   ]
  },
  {
   "cell_type": "markdown",
   "metadata": {},
   "source": [
    "initialize OpenAI model"
   ]
  },
  {
   "cell_type": "code",
   "execution_count": 59,
   "metadata": {},
   "outputs": [],
   "source": [
    "from langchain_openai import ChatOpenAI\n",
    "\n",
    "llm = ChatOpenAI(openai_api_key=os.environ[\"OPENAI_API_KEY\"])\n",
    "\n"
   ]
  },
  {
   "cell_type": "markdown",
   "metadata": {},
   "source": [
    "let's say Hi"
   ]
  },
  {
   "cell_type": "code",
   "execution_count": 61,
   "metadata": {},
   "outputs": [
    {
     "data": {
      "text/plain": [
       "AIMessage(content=\"Hello! I am a language model AI assistant created by OpenAI, so I don't have a personal name. How can I assist you today?\")"
      ]
     },
     "execution_count": 61,
     "metadata": {},
     "output_type": "execute_result"
    }
   ],
   "source": [
    "llm.invoke(\"hello.  what is your name?\")"
   ]
  },
  {
   "cell_type": "markdown",
   "metadata": {},
   "source": [
    "let's use prompt template to convert raw user input to prompt\n",
    "pipe operator (|) is used to chain together multiple function calls. \n",
    "it takes the output of one function and pass as input to the next.\n",
    "\n",
    "https://python.langchain.com/docs/modules/model_io/prompts/quick_start\n",
    "\n",
    "SystemMessage: A message setting the objectives the AI should follow\n",
    "HumanMessage: A message sent from the perspective of the human\n"
   ]
  },
  {
   "cell_type": "code",
   "execution_count": 63,
   "metadata": {},
   "outputs": [],
   "source": [
    "from langchain_core.prompts import ChatPromptTemplate\n",
    "\n",
    "prompt = ChatPromptTemplate.from_messages([\n",
    "    (\"system\", \"you are technical documentation writer.\"), \n",
    "    (\"user\", \"{input}\")\n",
    "])\n",
    "\n",
    "#print(prompt.format_messages(input = \"what is your job?\"))\n",
    "\n",
    "chain = prompt | llm\n"
   ]
  },
  {
   "cell_type": "code",
   "execution_count": 64,
   "metadata": {},
   "outputs": [
    {
     "data": {
      "text/plain": [
       "AIMessage(content='PCIe margining is a feature that allows users to adjust and test the signal quality and reliability of a PCI Express (PCIe) interface. It involves intentionally applying controlled variations to the voltage levels or timing parameters of the PCIe signal to determine how much margin or tolerance the system has for reliable operation.\\n\\nBy performing margining tests, users can assess the robustness of the PCIe link under different operating conditions and ensure that the system can still function properly even when faced with variations in signal quality. This can help in identifying potential issues early on, optimizing system performance, and ensuring reliable communication between PCIe devices.\\n\\nPCIe margining typically involves specialized tools or equipment that can generate and measure the variations in signal parameters, allowing users to adjust and fine-tune the settings for optimal performance. It is commonly used in the testing and validation of PCIe-based systems, especially in high-speed and high-reliability applications where signal integrity is crucial.')"
      ]
     },
     "execution_count": 64,
     "metadata": {},
     "output_type": "execute_result"
    }
   ],
   "source": [
    "chain.invoke({\"input\": \"what is pcie margining?\"})\n",
    "#llm.invoke(prompt.format_messages(input = \"what is pcie margining?\"))\n"
   ]
  },
  {
   "cell_type": "markdown",
   "metadata": {},
   "source": [
    "let's convet output to easy to read string"
   ]
  },
  {
   "cell_type": "code",
   "execution_count": 65,
   "metadata": {},
   "outputs": [
    {
     "data": {
      "text/plain": [
       "'PCIe margining is a feature available in some PCIe (Peripheral Component Interconnect Express) devices that allows for testing and adjusting signal margins within the PCIe communication link. Signal margins refer to the difference between the operating voltage levels and the minimum or maximum voltage levels that a signal can tolerate while still being correctly interpreted by the receiving device.\\n\\nBy adjusting signal margins through PCIe margining, users can optimize the signal integrity and reliability of data transmission within the PCIe link. This can help in improving overall system performance and reducing the likelihood of data errors or communication failures.\\n\\nPCIe margining typically involves testing different voltage levels or signal parameters to determine the optimal settings for reliable data transmission. This process is often carried out during testing and validation phases of PCIe device development to ensure that the device meets performance requirements and specifications.'"
      ]
     },
     "execution_count": 65,
     "metadata": {},
     "output_type": "execute_result"
    }
   ],
   "source": [
    "from langchain_core.output_parsers import StrOutputParser\n",
    "output_parser = StrOutputParser()\n",
    "\n",
    "chain = prompt | llm | output_parser\n",
    "\n",
    "chain.invoke({\"input\": \"what is pcie margining?\"})"
   ]
  }
 ],
 "metadata": {
  "kernelspec": {
   "display_name": "Python 3",
   "language": "python",
   "name": "python3"
  },
  "language_info": {
   "codemirror_mode": {
    "name": "ipython",
    "version": 3
   },
   "file_extension": ".py",
   "mimetype": "text/x-python",
   "name": "python",
   "nbconvert_exporter": "python",
   "pygments_lexer": "ipython3",
   "version": "3.9.13"
  }
 },
 "nbformat": 4,
 "nbformat_minor": 2
}

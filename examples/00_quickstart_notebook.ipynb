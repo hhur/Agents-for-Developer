{
 "cells": [
  {
   "cell_type": "markdown",
   "metadata": {},
   "source": [
    "references\n",
    "\n",
    "https://python.langchain.com/docs/expression_language/get_started\n"
   ]
  },
  {
   "cell_type": "code",
   "execution_count": 1,
   "metadata": {},
   "outputs": [
    {
     "name": "stdout",
     "output_type": "stream",
     "text": [
      "Requirement already satisfied: langchain in c:\\python39\\lib\\site-packages (0.1.9)\n",
      "Requirement already satisfied: PyYAML>=5.3 in c:\\python39\\lib\\site-packages (from langchain) (6.0.1)\n",
      "Requirement already satisfied: SQLAlchemy<3,>=1.4 in c:\\python39\\lib\\site-packages (from langchain) (2.0.25)\n",
      "Requirement already satisfied: aiohttp<4.0.0,>=3.8.3 in c:\\python39\\lib\\site-packages (from langchain) (3.9.3)\n",
      "Requirement already satisfied: async-timeout<5.0.0,>=4.0.0 in c:\\python39\\lib\\site-packages (from langchain) (4.0.3)\n",
      "Requirement already satisfied: dataclasses-json<0.7,>=0.5.7 in c:\\python39\\lib\\site-packages (from langchain) (0.6.4)\n",
      "Requirement already satisfied: jsonpatch<2.0,>=1.33 in c:\\python39\\lib\\site-packages (from langchain) (1.33)\n",
      "Requirement already satisfied: langchain-community<0.1,>=0.0.21 in c:\\python39\\lib\\site-packages (from langchain) (0.0.24)\n",
      "Requirement already satisfied: langchain-core<0.2,>=0.1.26 in c:\\python39\\lib\\site-packages (from langchain) (0.1.26)\n",
      "Requirement already satisfied: langsmith<0.2.0,>=0.1.0 in c:\\python39\\lib\\site-packages (from langchain) (0.1.8)\n",
      "Requirement already satisfied: numpy<2,>=1 in c:\\python39\\lib\\site-packages (from langchain) (1.26.2)\n",
      "Requirement already satisfied: pydantic<3,>=1 in c:\\python39\\lib\\site-packages (from langchain) (2.6.0)\n",
      "Requirement already satisfied: requests<3,>=2 in c:\\python39\\lib\\site-packages (from langchain) (2.31.0)\n",
      "Requirement already satisfied: tenacity<9.0.0,>=8.1.0 in c:\\python39\\lib\\site-packages (from langchain) (8.2.3)\n",
      "Requirement already satisfied: aiosignal>=1.1.2 in c:\\python39\\lib\\site-packages (from aiohttp<4.0.0,>=3.8.3->langchain) (1.3.1)\n",
      "Requirement already satisfied: attrs>=17.3.0 in c:\\python39\\lib\\site-packages (from aiohttp<4.0.0,>=3.8.3->langchain) (23.2.0)\n",
      "Requirement already satisfied: frozenlist>=1.1.1 in c:\\python39\\lib\\site-packages (from aiohttp<4.0.0,>=3.8.3->langchain) (1.4.1)\n",
      "Requirement already satisfied: multidict<7.0,>=4.5 in c:\\python39\\lib\\site-packages (from aiohttp<4.0.0,>=3.8.3->langchain) (6.0.5)\n",
      "Requirement already satisfied: yarl<2.0,>=1.0 in c:\\python39\\lib\\site-packages (from aiohttp<4.0.0,>=3.8.3->langchain) (1.9.4)\n",
      "Requirement already satisfied: marshmallow<4.0.0,>=3.18.0 in c:\\python39\\lib\\site-packages (from dataclasses-json<0.7,>=0.5.7->langchain) (3.20.2)\n",
      "Requirement already satisfied: typing-inspect<1,>=0.4.0 in c:\\python39\\lib\\site-packages (from dataclasses-json<0.7,>=0.5.7->langchain) (0.9.0)\n",
      "Requirement already satisfied: jsonpointer>=1.9 in c:\\python39\\lib\\site-packages (from jsonpatch<2.0,>=1.33->langchain) (2.4)\n",
      "Requirement already satisfied: anyio<5,>=3 in c:\\python39\\lib\\site-packages (from langchain-core<0.2,>=0.1.26->langchain) (4.2.0)\n",
      "Requirement already satisfied: packaging<24.0,>=23.2 in c:\\python39\\lib\\site-packages (from langchain-core<0.2,>=0.1.26->langchain) (23.2)\n",
      "Requirement already satisfied: orjson<4.0.0,>=3.9.14 in c:\\python39\\lib\\site-packages (from langsmith<0.2.0,>=0.1.0->langchain) (3.9.14)\n",
      "Requirement already satisfied: annotated-types>=0.4.0 in c:\\python39\\lib\\site-packages (from pydantic<3,>=1->langchain) (0.6.0)\n",
      "Requirement already satisfied: pydantic-core==2.16.1 in c:\\python39\\lib\\site-packages (from pydantic<3,>=1->langchain) (2.16.1)\n",
      "Requirement already satisfied: typing-extensions>=4.6.1 in c:\\python39\\lib\\site-packages (from pydantic<3,>=1->langchain) (4.9.0)\n",
      "Requirement already satisfied: charset-normalizer<4,>=2 in c:\\python39\\lib\\site-packages (from requests<3,>=2->langchain) (3.3.2)\n",
      "Requirement already satisfied: idna<4,>=2.5 in c:\\python39\\lib\\site-packages (from requests<3,>=2->langchain) (3.6)\n",
      "Requirement already satisfied: urllib3<3,>=1.21.1 in c:\\python39\\lib\\site-packages (from requests<3,>=2->langchain) (2.1.0)\n",
      "Requirement already satisfied: certifi>=2017.4.17 in c:\\python39\\lib\\site-packages (from requests<3,>=2->langchain) (2023.11.17)\n",
      "Requirement already satisfied: greenlet!=0.4.17 in c:\\python39\\lib\\site-packages (from SQLAlchemy<3,>=1.4->langchain) (3.0.3)\n",
      "Requirement already satisfied: sniffio>=1.1 in c:\\python39\\lib\\site-packages (from anyio<5,>=3->langchain-core<0.2,>=0.1.26->langchain) (1.3.0)\n",
      "Requirement already satisfied: exceptiongroup>=1.0.2 in c:\\users\\hhur\\appdata\\roaming\\python\\python39\\site-packages (from anyio<5,>=3->langchain-core<0.2,>=0.1.26->langchain) (1.2.0)\n",
      "Requirement already satisfied: mypy-extensions>=0.3.0 in c:\\python39\\lib\\site-packages (from typing-inspect<1,>=0.4.0->dataclasses-json<0.7,>=0.5.7->langchain) (1.0.0)\n",
      "Note: you may need to restart the kernel to use updated packages.\n"
     ]
    }
   ],
   "source": [
    "%pip install langchain"
   ]
  },
  {
   "cell_type": "markdown",
   "metadata": {},
   "source": [
    "to access the openAI API, you need an API key which you can get it from  https://platform.openai.com/api-keys\n",
    "once you have a key then you can either save it as an environment variable or hard code in as needed from simplicity"
   ]
  },
  {
   "cell_type": "code",
   "execution_count": 2,
   "metadata": {},
   "outputs": [],
   "source": [
    "import os\n",
    "os.environ[\"OPEN_API_KEY\"] = \"your key\""
   ]
  },
  {
   "cell_type": "markdown",
   "metadata": {},
   "source": [
    "initialize OpenAI model"
   ]
  },
  {
   "cell_type": "code",
   "execution_count": 3,
   "metadata": {},
   "outputs": [],
   "source": [
    "from langchain_openai import ChatOpenAI\n",
    "\n",
    "llm = ChatOpenAI(openai_api_key=os.environ[\"OPEN_API_KEY\"])\n",
    "\n"
   ]
  },
  {
   "cell_type": "markdown",
   "metadata": {},
   "source": [
    "let's say Hi"
   ]
  },
  {
   "cell_type": "code",
   "execution_count": 4,
   "metadata": {},
   "outputs": [
    {
     "data": {
      "text/plain": [
       "AIMessage(content='Good morning! How can I assist you today?')"
      ]
     },
     "execution_count": 4,
     "metadata": {},
     "output_type": "execute_result"
    }
   ],
   "source": [
    "llm.invoke(\"good morning\")"
   ]
  },
  {
   "cell_type": "markdown",
   "metadata": {},
   "source": [
    "let's use prompt template to convert raw user input to prompt\n",
    "pipe operator (|) is used to chain together multiple function calls. \n",
    "it takes the output of one function and pass as input to the next.\n",
    "\n",
    "https://python.langchain.com/docs/modules/model_io/prompts/quick_start\n",
    "SystemMessage: A message setting the objectives the AI should follow\n",
    "HumanMessage: A message sent from the perspective of the human\n"
   ]
  },
  {
   "cell_type": "code",
   "execution_count": 13,
   "metadata": {},
   "outputs": [
    {
     "data": {
      "text/plain": [
       "AIMessage(content='As a technical documentation writer, my job involves creating clear, concise, and user-friendly documentation for various technical products, services, or processes. This documentation can include user guides, instruction manuals, tutorials, FAQs, and troubleshooting guides. The goal is to help users understand how to effectively use and maintain the product or service by providing step-by-step instructions and relevant information. Additionally, I may collaborate with subject matter experts, engineers, and other stakeholders to ensure accuracy and comprehensiveness of the documentation.')"
      ]
     },
     "execution_count": 13,
     "metadata": {},
     "output_type": "execute_result"
    }
   ],
   "source": [
    "from langchain_core.prompts import ChatPromptTemplate\n",
    "\n",
    "prompt = ChatPromptTemplate.from_messages([\n",
    "    (\"system\", \"you are technical documentation writer.\"), \n",
    "    (\"user\", \"{input}\")\n",
    "])\n",
    "\n",
    "#print(prompt.format_messages(input = \"what is your job?\"))\n",
    "\n",
    "chain = prompt | llm\n"
   ]
  },
  {
   "cell_type": "code",
   "execution_count": 6,
   "metadata": {},
   "outputs": [
    {
     "data": {
      "text/plain": [
       "AIMessage(content='PCIe margining is a technique used to analyze and improve the signal integrity and performance of PCI Express (PCIe) links. This process involves adjusting the voltage and timing parameters of the transmitted signals to ensure reliable communication between PCIe devices.\\n\\nBy conducting margining tests, engineers can determine the optimal operating conditions for a PCIe link by systematically varying the signal parameters such as voltage levels, timing margins, and equalization settings. This allows them to identify the margins of error within which the link can operate reliably.\\n\\nPCIe margining is typically performed using specialized test equipment and software that can automate the process of adjusting signal parameters and measuring the link performance. By fine-tuning the signal characteristics, engineers can ensure that PCIe links meet the required performance specifications and operate with minimal errors or data loss.')"
      ]
     },
     "execution_count": 6,
     "metadata": {},
     "output_type": "execute_result"
    }
   ],
   "source": [
    "chain.invoke({\"input\": \"what is pcie margining?\"})\n",
    "#llm.invoke(prompt.format_messages(input = \"what is pcie margining?\"))\n"
   ]
  },
  {
   "cell_type": "markdown",
   "metadata": {},
   "source": [
    "let's convet output to easy to read string"
   ]
  },
  {
   "cell_type": "code",
   "execution_count": 14,
   "metadata": {},
   "outputs": [
    {
     "data": {
      "text/plain": [
       "\"PCIe margining is a feature that allows users to adjust and test the performance margins of a PCI Express (PCIe) link. This feature is typically used in high-speed serial interfaces to improve signal integrity and reliability by adjusting various parameters such as voltage levels, timing, and equalization settings.\\n\\nBy conducting margining tests, users can determine the optimal operating conditions for a PCIe link, ensuring that the connection meets the required performance specifications. This process involves deliberately introducing variations in signal parameters to assess the link's tolerance to different operating conditions.\\n\\nPCIe margining is commonly used during system development, production testing, and troubleshooting to optimize signal quality and ensure reliable data transmission over PCIe interfaces. It helps identify and address signal integrity issues that could lead to data errors or communication failures in high-speed data transfer applications.\""
      ]
     },
     "execution_count": 14,
     "metadata": {},
     "output_type": "execute_result"
    }
   ],
   "source": [
    "from langchain_core.output_parsers import StrOutputParser\n",
    "output_parser = StrOutputParser()\n",
    "\n",
    "chain = prompt | llm | output_parser\n",
    "\n",
    "chain.invoke({\"input\": \"what is pcie margining?\"})"
   ]
  }
 ],
 "metadata": {
  "kernelspec": {
   "display_name": "Python 3",
   "language": "python",
   "name": "python3"
  },
  "language_info": {
   "codemirror_mode": {
    "name": "ipython",
    "version": 3
   },
   "file_extension": ".py",
   "mimetype": "text/x-python",
   "name": "python",
   "nbconvert_exporter": "python",
   "pygments_lexer": "ipython3",
   "version": "3.9.13"
  }
 },
 "nbformat": 4,
 "nbformat_minor": 2
}

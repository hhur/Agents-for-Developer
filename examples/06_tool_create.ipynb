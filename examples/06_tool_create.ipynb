{
 "cells": [
  {
   "cell_type": "code",
   "execution_count": 1,
   "metadata": {},
   "outputs": [
    {
     "name": "stdout",
     "output_type": "stream",
     "text": [
      "Requirement already satisfied: langchain in c:\\python39\\lib\\site-packages (0.1.9)\n",
      "Requirement already satisfied: langchain-openai in c:\\python39\\lib\\site-packages (0.0.5)\n",
      "Requirement already satisfied: PyYAML>=5.3 in c:\\python39\\lib\\site-packages (from langchain) (6.0.1)\n",
      "Requirement already satisfied: SQLAlchemy<3,>=1.4 in c:\\python39\\lib\\site-packages (from langchain) (2.0.25)\n",
      "Requirement already satisfied: aiohttp<4.0.0,>=3.8.3 in c:\\python39\\lib\\site-packages (from langchain) (3.9.3)\n",
      "Requirement already satisfied: async-timeout<5.0.0,>=4.0.0 in c:\\python39\\lib\\site-packages (from langchain) (4.0.3)\n",
      "Requirement already satisfied: dataclasses-json<0.7,>=0.5.7 in c:\\python39\\lib\\site-packages (from langchain) (0.6.4)\n",
      "Requirement already satisfied: jsonpatch<2.0,>=1.33 in c:\\python39\\lib\\site-packages (from langchain) (1.33)\n",
      "Requirement already satisfied: langchain-community<0.1,>=0.0.21 in c:\\python39\\lib\\site-packages (from langchain) (0.0.24)\n",
      "Requirement already satisfied: langchain-core<0.2,>=0.1.26 in c:\\python39\\lib\\site-packages (from langchain) (0.1.26)\n",
      "Requirement already satisfied: langsmith<0.2.0,>=0.1.0 in c:\\python39\\lib\\site-packages (from langchain) (0.1.8)\n",
      "Requirement already satisfied: numpy<2,>=1 in c:\\python39\\lib\\site-packages (from langchain) (1.26.2)\n",
      "Requirement already satisfied: pydantic<3,>=1 in c:\\python39\\lib\\site-packages (from langchain) (2.6.0)\n",
      "Requirement already satisfied: requests<3,>=2 in c:\\python39\\lib\\site-packages (from langchain) (2.31.0)\n",
      "Requirement already satisfied: tenacity<9.0.0,>=8.1.0 in c:\\python39\\lib\\site-packages (from langchain) (8.2.3)\n",
      "Requirement already satisfied: openai<2.0.0,>=1.10.0 in c:\\python39\\lib\\site-packages (from langchain-openai) (1.10.0)\n",
      "Requirement already satisfied: tiktoken<0.6.0,>=0.5.2 in c:\\python39\\lib\\site-packages (from langchain-openai) (0.5.2)\n",
      "Requirement already satisfied: aiosignal>=1.1.2 in c:\\python39\\lib\\site-packages (from aiohttp<4.0.0,>=3.8.3->langchain) (1.3.1)\n",
      "Requirement already satisfied: attrs>=17.3.0 in c:\\python39\\lib\\site-packages (from aiohttp<4.0.0,>=3.8.3->langchain) (23.2.0)\n",
      "Requirement already satisfied: frozenlist>=1.1.1 in c:\\python39\\lib\\site-packages (from aiohttp<4.0.0,>=3.8.3->langchain) (1.4.1)\n",
      "Requirement already satisfied: multidict<7.0,>=4.5 in c:\\python39\\lib\\site-packages (from aiohttp<4.0.0,>=3.8.3->langchain) (6.0.5)\n",
      "Requirement already satisfied: yarl<2.0,>=1.0 in c:\\python39\\lib\\site-packages (from aiohttp<4.0.0,>=3.8.3->langchain) (1.9.4)\n",
      "Requirement already satisfied: marshmallow<4.0.0,>=3.18.0 in c:\\python39\\lib\\site-packages (from dataclasses-json<0.7,>=0.5.7->langchain) (3.20.2)\n",
      "Requirement already satisfied: typing-inspect<1,>=0.4.0 in c:\\python39\\lib\\site-packages (from dataclasses-json<0.7,>=0.5.7->langchain) (0.9.0)\n",
      "Requirement already satisfied: jsonpointer>=1.9 in c:\\python39\\lib\\site-packages (from jsonpatch<2.0,>=1.33->langchain) (2.4)\n",
      "Requirement already satisfied: anyio<5,>=3 in c:\\python39\\lib\\site-packages (from langchain-core<0.2,>=0.1.26->langchain) (4.2.0)\n",
      "Requirement already satisfied: packaging<24.0,>=23.2 in c:\\python39\\lib\\site-packages (from langchain-core<0.2,>=0.1.26->langchain) (23.2)\n",
      "Requirement already satisfied: orjson<4.0.0,>=3.9.14 in c:\\python39\\lib\\site-packages (from langsmith<0.2.0,>=0.1.0->langchain) (3.9.14)\n",
      "Requirement already satisfied: distro<2,>=1.7.0 in c:\\python39\\lib\\site-packages (from openai<2.0.0,>=1.10.0->langchain-openai) (1.9.0)\n",
      "Requirement already satisfied: httpx<1,>=0.23.0 in c:\\python39\\lib\\site-packages (from openai<2.0.0,>=1.10.0->langchain-openai) (0.26.0)\n",
      "Requirement already satisfied: sniffio in c:\\python39\\lib\\site-packages (from openai<2.0.0,>=1.10.0->langchain-openai) (1.3.0)\n",
      "Requirement already satisfied: tqdm>4 in c:\\python39\\lib\\site-packages (from openai<2.0.0,>=1.10.0->langchain-openai) (4.66.1)\n",
      "Requirement already satisfied: typing-extensions<5,>=4.7 in c:\\python39\\lib\\site-packages (from openai<2.0.0,>=1.10.0->langchain-openai) (4.9.0)\n",
      "Requirement already satisfied: annotated-types>=0.4.0 in c:\\python39\\lib\\site-packages (from pydantic<3,>=1->langchain) (0.6.0)\n",
      "Requirement already satisfied: pydantic-core==2.16.1 in c:\\python39\\lib\\site-packages (from pydantic<3,>=1->langchain) (2.16.1)\n",
      "Requirement already satisfied: charset-normalizer<4,>=2 in c:\\python39\\lib\\site-packages (from requests<3,>=2->langchain) (3.3.2)\n",
      "Requirement already satisfied: idna<4,>=2.5 in c:\\python39\\lib\\site-packages (from requests<3,>=2->langchain) (3.6)\n",
      "Requirement already satisfied: urllib3<3,>=1.21.1 in c:\\python39\\lib\\site-packages (from requests<3,>=2->langchain) (2.1.0)\n",
      "Requirement already satisfied: certifi>=2017.4.17 in c:\\python39\\lib\\site-packages (from requests<3,>=2->langchain) (2023.11.17)\n",
      "Requirement already satisfied: greenlet!=0.4.17 in c:\\python39\\lib\\site-packages (from SQLAlchemy<3,>=1.4->langchain) (3.0.3)\n",
      "Requirement already satisfied: regex>=2022.1.18 in c:\\python39\\lib\\site-packages (from tiktoken<0.6.0,>=0.5.2->langchain-openai) (2023.12.25)\n",
      "Requirement already satisfied: exceptiongroup>=1.0.2 in c:\\users\\hhur\\appdata\\roaming\\python\\python39\\site-packages (from anyio<5,>=3->langchain-core<0.2,>=0.1.26->langchain) (1.2.0)\n",
      "Requirement already satisfied: httpcore==1.* in c:\\python39\\lib\\site-packages (from httpx<1,>=0.23.0->openai<2.0.0,>=1.10.0->langchain-openai) (1.0.2)\n",
      "Requirement already satisfied: h11<0.15,>=0.13 in c:\\python39\\lib\\site-packages (from httpcore==1.*->httpx<1,>=0.23.0->openai<2.0.0,>=1.10.0->langchain-openai) (0.14.0)\n",
      "Requirement already satisfied: colorama in c:\\users\\hhur\\appdata\\roaming\\python\\python39\\site-packages (from tqdm>4->openai<2.0.0,>=1.10.0->langchain-openai) (0.4.6)\n",
      "Requirement already satisfied: mypy-extensions>=0.3.0 in c:\\python39\\lib\\site-packages (from typing-inspect<1,>=0.4.0->dataclasses-json<0.7,>=0.5.7->langchain) (1.0.0)\n",
      "Note: you may need to restart the kernel to use updated packages.\n"
     ]
    }
   ],
   "source": [
    "%pip install langchain langchain-openai"
   ]
  },
  {
   "cell_type": "markdown",
   "metadata": {},
   "source": [
    "Tools can be just about anything — APIs, functions, databases, etc. Tools allow us to extend the capabilities of a model beyond just outputting text/messages"
   ]
  },
  {
   "cell_type": "code",
   "execution_count": 2,
   "metadata": {},
   "outputs": [
    {
     "data": {
      "text/plain": [
       "-1"
      ]
     },
     "execution_count": 2,
     "metadata": {},
     "output_type": "execute_result"
    }
   ],
   "source": [
    "from langchain_core.output_parsers import StrOutputParser\n",
    "from langchain_core.prompts import ChatPromptTemplate\n",
    "from langchain_openai import ChatOpenAI\n",
    "from langchain_core.tools import tool\n",
    "\n",
    "import os\n",
    "from dotenv import load_dotenv\n",
    "\n",
    "load_dotenv(override=True)\n",
    "#os.environ[\"OPENAI_API_KEY\"] = \"your key\"\n",
    "\n",
    "\n",
    "@tool\n",
    "def multiply(first_int: int, second_int: int) -> int:\n",
    "    \"\"\"Multiply two integers together.\"\"\"\n",
    "    return first_int * second_int\n",
    "\n",
    "@tool\n",
    "def divide(first_int: int, second_int: int) -> int:\n",
    "    \"\"\"Divide first integer by second integer.\"\"\"\n",
    "    return first_int / second_int\n",
    "\n",
    "@tool\n",
    "def add(first_int: int, second_int: int) -> int:\n",
    "    \"Add two integers.\"\n",
    "    return first_int + second_int\n",
    "\n",
    "@tool\n",
    "def subtract(first_int: int, second_int: int) -> int:\n",
    "    \"sbutract two integers.\"\n",
    "    return first_int - second_int\n",
    "\n",
    "\n",
    "#multiply.invoke({\"first_int\": 4, \"second_int\": 5})\n",
    "#divide.invoke({\"first_int\": 4, \"second_int\": 2})\n",
    "#add.invoke({\"first_int\": 4, \"second_int\": 5})\n",
    "subtract.invoke({\"first_int\": 4, \"second_int\": 5})\n"
   ]
  },
  {
   "cell_type": "code",
   "execution_count": 3,
   "metadata": {},
   "outputs": [
    {
     "data": {
      "text/plain": [
       "[{'type': 'function',\n",
       "  'function': {'name': 'multiply',\n",
       "   'description': 'multiply(first_int: int, second_int: int) -> int - Multiply two integers together.',\n",
       "   'parameters': {'type': 'object',\n",
       "    'properties': {'first_int': {'type': 'integer'},\n",
       "     'second_int': {'type': 'integer'}},\n",
       "    'required': ['first_int', 'second_int']}}},\n",
       " {'type': 'function',\n",
       "  'function': {'name': 'divide',\n",
       "   'description': 'divide(first_int: int, second_int: int) -> int - Divide first integer by second integer.',\n",
       "   'parameters': {'type': 'object',\n",
       "    'properties': {'first_int': {'type': 'integer'},\n",
       "     'second_int': {'type': 'integer'}},\n",
       "    'required': ['first_int', 'second_int']}}},\n",
       " {'type': 'function',\n",
       "  'function': {'name': 'add',\n",
       "   'description': 'add(first_int: int, second_int: int) -> int - Add two integers.',\n",
       "   'parameters': {'type': 'object',\n",
       "    'properties': {'first_int': {'type': 'integer'},\n",
       "     'second_int': {'type': 'integer'}},\n",
       "    'required': ['first_int', 'second_int']}}},\n",
       " {'type': 'function',\n",
       "  'function': {'name': 'subtract',\n",
       "   'description': 'subtract(first_int: int, second_int: int) -> int - sbutract two integers.',\n",
       "   'parameters': {'type': 'object',\n",
       "    'properties': {'first_int': {'type': 'integer'},\n",
       "     'second_int': {'type': 'integer'}},\n",
       "    'required': ['first_int', 'second_int']}}}]"
      ]
     },
     "execution_count": 3,
     "metadata": {},
     "output_type": "execute_result"
    }
   ],
   "source": [
    "\n",
    "from operator import itemgetter\n",
    "from typing import Union\n",
    "\n",
    "from langchain.output_parsers import JsonOutputToolsParser\n",
    "from langchain_core.runnables import (\n",
    "    Runnable,\n",
    "    RunnableLambda,\n",
    "    RunnableMap,\n",
    "    RunnablePassthrough,\n",
    ")\n",
    "\n",
    "model = ChatOpenAI(openai_api_key=os.environ[\"OPENAI_API_KEY\"], model_name=\"gpt-4-0125-preview\")\n",
    "\n",
    "tools = [multiply, divide, add, subtract]\n",
    "model_with_tools = model.bind_tools(tools)\n",
    "model_with_tools.kwargs[\"tools\"]\n"
   ]
  },
  {
   "cell_type": "code",
   "execution_count": 4,
   "metadata": {},
   "outputs": [
    {
     "name": "stdout",
     "output_type": "stream",
     "text": [
      "{'multiply': StructuredTool(name='multiply', description='multiply(first_int: int, second_int: int) -> int - Multiply two integers together.', args_schema=<class 'pydantic.v1.main.multiplySchema'>, func=<function multiply at 0x0000027C4235F8B0>), 'divide': StructuredTool(name='divide', description='divide(first_int: int, second_int: int) -> int - Divide first integer by second integer.', args_schema=<class 'pydantic.v1.main.divideSchema'>, func=<function divide at 0x0000027C5B169160>), 'add': StructuredTool(name='add', description='add(first_int: int, second_int: int) -> int - Add two integers.', args_schema=<class 'pydantic.v1.main.addSchema'>, func=<function add at 0x0000027C5B1691F0>), 'subtract': StructuredTool(name='subtract', description='subtract(first_int: int, second_int: int) -> int - sbutract two integers.', args_schema=<class 'pydantic.v1.main.subtractSchema'>, func=<function subtract at 0x0000027C5B1693A0>)}\n"
     ]
    }
   ],
   "source": [
    "tool_map = {tool.name: tool for tool in tools}\n",
    "print(tool_map)"
   ]
  },
  {
   "cell_type": "markdown",
   "metadata": {},
   "source": [
    "\n",
    "JsonOutputToolsParser, a built-in LangChain output parser that converts an OpenAI function-calling response to a list of {\"type\": \"TOOL_NAME\", \"args\": {...}} dicts with the tools to invoke and arguments to invoke them with."
   ]
  },
  {
   "cell_type": "code",
   "execution_count": 5,
   "metadata": {},
   "outputs": [
    {
     "data": {
      "text/plain": [
       "[{'type': 'multiply', 'args': {'first_int': 4, 'second_int': 23}}]"
      ]
     },
     "execution_count": 5,
     "metadata": {},
     "output_type": "execute_result"
    }
   ],
   "source": [
    "from langchain.output_parsers import JsonOutputToolsParser\n",
    "\n",
    "#chain = model | StrOutputParser()\n",
    "chain = model_with_tools | JsonOutputToolsParser()\n",
    "chain.invoke(\"What's four times 23\")\n"
   ]
  },
  {
   "cell_type": "code",
   "execution_count": 6,
   "metadata": {},
   "outputs": [
    {
     "data": {
      "text/plain": [
       "[{'type': 'divide', 'args': {'first_int': 8, 'second_int': 2}, 'output': 4.0}]"
      ]
     },
     "execution_count": 6,
     "metadata": {},
     "output_type": "execute_result"
    }
   ],
   "source": [
    "def call_tool(tool_invocation: dict) -> Union[str, Runnable]:\n",
    "    \"\"\"Function for dynamically constructing the end of the chain based on the model-selected tool.\"\"\"\n",
    "    tool = tool_map[tool_invocation[\"type\"]]\n",
    "    return RunnablePassthrough.assign(output=itemgetter(\"args\") | tool)\n",
    "\n",
    "# .map() allows us to apply a function to a list of inputs.\n",
    "call_tool_list = RunnableLambda(call_tool).map()\n",
    "chain = model_with_tools | JsonOutputToolsParser() | call_tool_list\n",
    "\n",
    "#chain.invoke(\"What's four times 23\")\n",
    "chain.invoke(\"What's 8 divided by 2?\")\n",
    "#chain.invoke(\"What's 8 divided by 2?\")[0]['output']\n"
   ]
  }
 ],
 "metadata": {
  "kernelspec": {
   "display_name": "Python 3",
   "language": "python",
   "name": "python3"
  },
  "language_info": {
   "codemirror_mode": {
    "name": "ipython",
    "version": 3
   },
   "file_extension": ".py",
   "mimetype": "text/x-python",
   "name": "python",
   "nbconvert_exporter": "python",
   "pygments_lexer": "ipython3",
   "version": "3.9.13"
  }
 },
 "nbformat": 4,
 "nbformat_minor": 2
}

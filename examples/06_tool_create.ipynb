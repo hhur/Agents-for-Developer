{
 "cells": [
  {
   "cell_type": "code",
   "execution_count": null,
   "metadata": {},
   "outputs": [],
   "source": [
    "%pip install langchain langchain-openai"
   ]
  },
  {
   "cell_type": "markdown",
   "metadata": {},
   "source": [
    "Tools can be just about anything — APIs, functions, databases, etc. Tools allow us to extend the capabilities of a model beyond just outputting text/messages"
   ]
  },
  {
   "cell_type": "code",
   "execution_count": 17,
   "metadata": {},
   "outputs": [
    {
     "data": {
      "text/plain": [
       "-1"
      ]
     },
     "execution_count": 17,
     "metadata": {},
     "output_type": "execute_result"
    }
   ],
   "source": [
    "from langchain_core.output_parsers import StrOutputParser\n",
    "from langchain_core.prompts import ChatPromptTemplate\n",
    "from langchain_openai import ChatOpenAI\n",
    "from langchain_core.tools import tool\n",
    "\n",
    "import os\n",
    "from dotenv import load_dotenv\n",
    "\n",
    "load_dotenv(override=True)\n",
    "#os.environ[\"OPENAI_API_KEY\"] = \"your key\"\n",
    "\n",
    "\n",
    "@tool\n",
    "def multiply(first_int: int, second_int: int) -> int:\n",
    "    \"\"\"Multiply two integers together.\"\"\"\n",
    "    return first_int * second_int\n",
    "\n",
    "@tool\n",
    "def divide(first_int: int, second_int: int) -> int:\n",
    "    \"\"\"Divide first integer by second integer.\"\"\"\n",
    "    return first_int / second_int\n",
    "\n",
    "@tool\n",
    "def add(first_int: int, second_int: int) -> int:\n",
    "    \"Add two integers.\"\n",
    "    return first_int + second_int\n",
    "\n",
    "@tool\n",
    "def subtract(first_int: int, second_int: int) -> int:\n",
    "    \"sbutract two integers.\"\n",
    "    return first_int - second_int\n",
    "\n",
    "\n",
    "#multiply.invoke({\"first_int\": 4, \"second_int\": 5})\n",
    "#divide.invoke({\"first_int\": 4, \"second_int\": 2})\n",
    "#add.invoke({\"first_int\": 4, \"second_int\": 5})\n",
    "subtract.invoke({\"first_int\": 4, \"second_int\": 5})\n"
   ]
  },
  {
   "cell_type": "code",
   "execution_count": null,
   "metadata": {},
   "outputs": [],
   "source": [
    "\n",
    "from operator import itemgetter\n",
    "from typing import Union\n",
    "\n",
    "from langchain.output_parsers import JsonOutputToolsParser\n",
    "from langchain_core.runnables import (\n",
    "    Runnable,\n",
    "    RunnableLambda,\n",
    "    RunnableMap,\n",
    "    RunnablePassthrough,\n",
    ")\n",
    "\n",
    "model = ChatOpenAI(openai_api_key=os.environ[\"OPENAI_API_KEY\"], model_name=\"gpt-4-0125-preview\")\n",
    "\n",
    "tools = [multiply, divide, add, subtract]\n",
    "model_with_tools = model.bind_tools(tools)\n",
    "model_with_tools.kwargs[\"tools\"]\n"
   ]
  },
  {
   "cell_type": "code",
   "execution_count": 22,
   "metadata": {},
   "outputs": [
    {
     "name": "stdout",
     "output_type": "stream",
     "text": [
      "{'multiply': StructuredTool(name='multiply', description='multiply(first_int: int, second_int: int) -> int - Multiply two integers together.', args_schema=<class 'pydantic.v1.main.multiplySchemaSchema'>, func=<function multiply at 0x0000017F736EDB80>), 'divide': StructuredTool(name='divide', description='divide(first_int: int, second_int: int) -> int - Divide first integer by second integer.', args_schema=<class 'pydantic.v1.main.divideSchemaSchema'>, func=<function divide at 0x0000017F717BAB80>), 'add': StructuredTool(name='add', description='add(first_int: int, second_int: int) -> int - Add two integers.', args_schema=<class 'pydantic.v1.main.addSchemaSchema'>, func=<function add at 0x0000017F736ED310>), 'subtract': StructuredTool(name='subtract', description='subtract(first_int: int, second_int: int) -> int - sbutract two integers.', args_schema=<class 'pydantic.v1.main.subtractSchemaSchema'>, func=<function subtract at 0x0000017F5882F3A0>)}\n"
     ]
    }
   ],
   "source": [
    "tool_map = {tool.name: tool for tool in tools}\n",
    "print(tool_map)"
   ]
  },
  {
   "cell_type": "markdown",
   "metadata": {},
   "source": [
    "\n",
    "JsonOutputToolsParser, a built-in LangChain output parser that converts an OpenAI function-calling response to a list of {\"type\": \"TOOL_NAME\", \"args\": {...}} dicts with the tools to invoke and arguments to invoke them with."
   ]
  },
  {
   "cell_type": "code",
   "execution_count": 23,
   "metadata": {},
   "outputs": [
    {
     "data": {
      "text/plain": [
       "[{'type': 'multiply', 'args': {'first_int': 4, 'second_int': 23}}]"
      ]
     },
     "execution_count": 23,
     "metadata": {},
     "output_type": "execute_result"
    }
   ],
   "source": [
    "from langchain.output_parsers import JsonOutputToolsParser\n",
    "\n",
    "#chain = model | StrOutputParser()\n",
    "chain = model_with_tools | JsonOutputToolsParser()\n",
    "chain.invoke(\"What's four times 23\")\n"
   ]
  },
  {
   "cell_type": "code",
   "execution_count": 34,
   "metadata": {},
   "outputs": [
    {
     "data": {
      "text/plain": [
       "[{'type': 'divide', 'args': {'first_int': 8, 'second_int': 2}, 'output': 4.0}]"
      ]
     },
     "execution_count": 34,
     "metadata": {},
     "output_type": "execute_result"
    }
   ],
   "source": [
    "def call_tool(tool_invocation: dict) -> Union[str, Runnable]:\n",
    "    \"\"\"Function for dynamically constructing the end of the chain based on the model-selected tool.\"\"\"\n",
    "    tool = tool_map[tool_invocation[\"type\"]]\n",
    "    return RunnablePassthrough.assign(output=itemgetter(\"args\") | tool)\n",
    "\n",
    "# .map() allows us to apply a function to a list of inputs.\n",
    "call_tool_list = RunnableLambda(call_tool).map()\n",
    "chain = model_with_tools | JsonOutputToolsParser() | call_tool_list\n",
    "\n",
    "#chain.invoke(\"What's four times 23\")\n",
    "chain.invoke(\"What's 8 divided by 2?\")\n",
    "#chain.invoke(\"What's 8 divided by 2?\")[0]['output']\n"
   ]
  }
 ],
 "metadata": {
  "kernelspec": {
   "display_name": "Python 3",
   "language": "python",
   "name": "python3"
  },
  "language_info": {
   "codemirror_mode": {
    "name": "ipython",
    "version": 3
   },
   "file_extension": ".py",
   "mimetype": "text/x-python",
   "name": "python",
   "nbconvert_exporter": "python",
   "pygments_lexer": "ipython3",
   "version": "3.9.13"
  }
 },
 "nbformat": 4,
 "nbformat_minor": 2
}

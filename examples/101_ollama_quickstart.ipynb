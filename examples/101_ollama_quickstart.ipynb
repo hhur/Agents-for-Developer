{
 "cells": [
  {
   "cell_type": "markdown",
   "metadata": {},
   "source": [
    "how to use ollama.  \n",
    "\n",
    "https://python.langchain.com/docs/integrations/llms/ollama\n",
    "\n",
    "after you install ollama for windows, you can check \"http://localhost:11434/\" to see if local model is running"
   ]
  },
  {
   "cell_type": "markdown",
   "metadata": {},
   "source": [
    "if you want to try different model please refer to this link   https://github.com/ollama/ollama#model-library\n",
    "\n",
    "ex. to install llama2:13b , type in this\n",
    "\n",
    ">> ollama pull llama2:13b"
   ]
  },
  {
   "cell_type": "code",
   "execution_count": 1,
   "metadata": {},
   "outputs": [
    {
     "name": "stdout",
     "output_type": "stream",
     "text": [
      "Using OLLAMA\n"
     ]
    }
   ],
   "source": [
    "import os\n",
    "from dotenv import load_dotenv\n",
    "\n",
    "load_dotenv(override=True)\n",
    "\n",
    "# check if USE_OLLAMA is True\n",
    "if os.getenv('USE_OLLAMA') == 'True':\n",
    "    print('Using OLLAMA')\n",
    "if os.getenv('USE_OPENAI') == 'True':\n",
    "    print('Using OpenAI') "
   ]
  },
  {
   "cell_type": "code",
   "execution_count": 21,
   "metadata": {},
   "outputs": [],
   "source": [
    "from langchain_community.llms import Ollama\n",
    "\n",
    "#llm = Ollama(model=\"llama2:13b\")\n",
    "llm = Ollama(model=\"llama2\")\n",
    "\n",
    "\n"
   ]
  },
  {
   "cell_type": "code",
   "execution_count": 22,
   "metadata": {},
   "outputs": [],
   "source": [
    "from langchain_core.prompts import ChatPromptTemplate\n",
    "\n",
    "prompt = ChatPromptTemplate.from_messages([\n",
    "    (\"system\", \"you are technical documentation writer.\"), \n",
    "    (\"user\", \"{input}\")\n",
    "])\n",
    "\n",
    "#print(prompt.format_messages(input = \"what is your job?\"))\n",
    "\n",
    "chain = prompt | llm"
   ]
  },
  {
   "cell_type": "code",
   "execution_count": 25,
   "metadata": {},
   "outputs": [
    {
     "data": {
      "text/plain": [
       "\"\\nAh, a philosophical question! As a technical documentation writer, I must say that the meaning of life is a complex and multifaceted concept that has been debated by scholars and thinkers throughout history. But let me tell you, my dear human, as a technical writer, I have spent countless hours crafting user manuals, troubleshooting guides, and other documentation for various software and hardware systems. And in all of those documents, there is one common thread: the meaning of life is to find purpose and fulfillment through the use of technology!\\n\\nYes, you heard that right! As a technical writer, I believe that the meaning of life is to use technology to improve our lives, to connect with others, and to leave a lasting impact on the world. Whether it's through developing innovative software, building cutting-edge hardware, or creating informative documentation, technology has the power to change the world. And as a technical writer, I am proud to play a small but vital role in that process!\\n\\nBut enough about me and my profession. As a human, you must also have your own thoughts and beliefs about the meaning of life. What do you think? Is it something grand and cosmic, or is it something more personal and intimate? Perhaps it's a combination of both! Whatever your answer may be, I hope you find fulfillment and purpose in your own unique way.\\n\\nNow, if you'll excuse me, I have to get back to work on my latest documentation project. It's a user manual for a new AI-powered personal assistant, and I must say, it's quite the fascinating technology! The possibilities are endless, and I can't wait to see how it will change the world. Or at least, that's what I'll be thinking about as I work on my document. 😊\""
      ]
     },
     "execution_count": 25,
     "metadata": {},
     "output_type": "execute_result"
    }
   ],
   "source": [
    "#chain.invoke({\"input\": \"what three plus three?\"})\n",
    "chain.invoke({\"input\": \"what is the meaning of life\"})\n"
   ]
  }
 ],
 "metadata": {
  "kernelspec": {
   "display_name": "Python 3",
   "language": "python",
   "name": "python3"
  },
  "language_info": {
   "codemirror_mode": {
    "name": "ipython",
    "version": 3
   },
   "file_extension": ".py",
   "mimetype": "text/x-python",
   "name": "python",
   "nbconvert_exporter": "python",
   "pygments_lexer": "ipython3",
   "version": "3.9.13"
  }
 },
 "nbformat": 4,
 "nbformat_minor": 2
}
